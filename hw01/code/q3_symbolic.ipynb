{
 "cells": [
  {
   "cell_type": "code",
   "execution_count": 17,
   "id": "08beb49a-fd52-43b2-9096-6bc70c798ff6",
   "metadata": {},
   "outputs": [],
   "source": [
    "import sympy\n",
    "sympy.init_printing(use_unicode=True)"
   ]
  },
  {
   "cell_type": "code",
   "execution_count": 25,
   "id": "2ae84577-6c6a-44db-ad78-c7b1e1c512a9",
   "metadata": {},
   "outputs": [
    {
     "data": {
      "image/png": "[encoded data removed]",
      "text/latex": [
       "$\\displaystyle \\sigma_{i}$"
      ],
      "text/plain": [
       "σᵢ"
      ]
     },
     "execution_count": 25,
     "metadata": {},
     "output_type": "execute_result"
    }
   ],
   "source": [
    "b, s, n = sympy.symbols('beta sigma_i eta')\n",
    "s"
   ]
  },
  {
   "cell_type": "code",
   "execution_count": 26,
   "id": "801653c4-a78b-4dfc-b654-e95dce806cf7",
   "metadata": {},
   "outputs": [
    {
     "data": {
      "image/png": "[encoded data removed]",
      "text/latex": [
       "$\\displaystyle \\left[\\begin{matrix}1 - \\beta & 2 \\beta \\sigma_{i}^{2}\\\\- \\eta \\left(1 - \\beta\\right) & - 2 \\beta \\eta \\sigma_{i}^{2} + 1\\end{matrix}\\right]$"
      ],
      "text/plain": [
       "⎡                      2    ⎤\n",
       "⎢  1 - β         2⋅β⋅σᵢ     ⎥\n",
       "⎢                           ⎥\n",
       "⎢                      2    ⎥\n",
       "⎣-η⋅(1 - β)  - 2⋅β⋅η⋅σᵢ  + 1⎦"
      ]
     },
     "execution_count": 26,
     "metadata": {},
     "output_type": "execute_result"
    }
   ],
   "source": [
    "R = sympy.Matrix([\n",
    "    [1 - b, 2 * b * s**2],\n",
    "    [-n * (1 - b), 1 - 2 * n * b * s**2]\n",
    "])\n",
    "R"
   ]
  },
  {
   "cell_type": "code",
   "execution_count": 34,
   "id": "a4ffe017-ac85-4057-8ca9-5262e2137b09",
   "metadata": {},
   "outputs": [
    {
     "name": "stdout",
     "output_type": "stream",
     "text": [
      "Distinct Eigenvalues:\n"
     ]
    },
    {
     "data": {
      "image/png": "[encoded data removed]",
      "text/latex": [
       "$\\displaystyle \\left[ - \\beta \\eta \\sigma_{i}^{2} - \\frac{\\beta}{2} - \\frac{\\sqrt{\\beta \\left(4 \\beta \\eta^{2} \\sigma_{i}^{4} + 4 \\beta \\eta \\sigma_{i}^{2} + \\beta - 8 \\eta \\sigma_{i}^{2}\\right)}}{2} + 1, \\  - \\beta \\eta \\sigma_{i}^{2} - \\frac{\\beta}{2} + \\frac{\\sqrt{\\beta \\left(4 \\beta \\eta^{2} \\sigma_{i}^{4} + 4 \\beta \\eta \\sigma_{i}^{2} + \\beta - 8 \\eta \\sigma_{i}^{2}\\right)}}{2} + 1\\right]$"
      ],
      "text/plain": [
       "⎡                   __________________________________________                 ↪\n",
       "⎢                  ╱   ⎛     2   4           2             2⎞                  ↪\n",
       "⎢        2   β   ╲╱  β⋅⎝4⋅β⋅η ⋅σᵢ  + 4⋅β⋅η⋅σᵢ  + β - 8⋅η⋅σᵢ ⎠               2  ↪\n",
       "⎢- β⋅η⋅σᵢ  - ─ - ───────────────────────────────────────────── + 1, - β⋅η⋅σᵢ   ↪\n",
       "⎣            2                         2                                       ↪\n",
       "\n",
       "↪          __________________________________________    ⎤\n",
       "↪         ╱   ⎛     2   4           2             2⎞     ⎥\n",
       "↪   β   ╲╱  β⋅⎝4⋅β⋅η ⋅σᵢ  + 4⋅β⋅η⋅σᵢ  + β - 8⋅η⋅σᵢ ⎠     ⎥\n",
       "↪ - ─ + ───────────────────────────────────────────── + 1⎥\n",
       "↪   2                         2                          ⎦"
      ]
     },
     "execution_count": 34,
     "metadata": {},
     "output_type": "execute_result"
    }
   ],
   "source": [
    "eigenvalues = R.eigenvals()\n",
    "distinct_eigenvalues = list(eigenvalues.keys())\n",
    "print(\"Distinct Eigenvalues:\")\n",
    "distinct_eigenvalues"
   ]
  },
  {
   "cell_type": "code",
   "execution_count": 37,
   "id": "ce6d94e5-888c-4872-89d4-09cd0188bbc2",
   "metadata": {},
   "outputs": [
    {
     "name": "stdout",
     "output_type": "stream",
     "text": [
      "-beta*eta*sigma_i**2 - beta/2 - sqrt(beta*(4*beta*eta**2*sigma_i**4 + 4*beta*eta*sigma_i**2 + beta - 8*eta*sigma_i**2))/2 + 1\n"
     ]
    }
   ],
   "source": [
    "print(distinct_eigenvalues[0])"
   ]
  },
  {
   "cell_type": "code",
   "execution_count": 44,
   "id": "76524c57-51a2-4111-bc9a-a25ff2397cce",
   "metadata": {},
   "outputs": [
    {
     "data": {
      "image/png": "[encoded data removed]",
      "text/latex": [
       "$\\displaystyle 4 \\beta \\eta^{2} \\sigma_{i}^{4} + 4 \\beta \\eta \\sigma_{i}^{2} + \\beta - 8 \\eta \\sigma_{i}^{2}$"
      ],
      "text/plain": [
       "     2   4           2             2\n",
       "4⋅β⋅η ⋅σᵢ  + 4⋅β⋅η⋅σᵢ  + β - 8⋅η⋅σᵢ "
      ]
     },
     "execution_count": 44,
     "metadata": {},
     "output_type": "execute_result"
    }
   ],
   "source": [
    "rad = 4*b*n**2*s**4 + 4*b*n*s**2 + b - 8*n*s**2\n",
    "rad"
   ]
  },
  {
   "cell_type": "code",
   "execution_count": 54,
   "id": "fb768080-659e-48ac-9d35-7f19d061942a",
   "metadata": {},
   "outputs": [
    {
     "data": {
      "image/png": "[encoded data removed]",
      "text/latex": [
       "$\\displaystyle \\beta \\left(4 \\eta^{2} \\sigma_{i}^{4} + 4 \\eta \\sigma_{i}^{2} + 1\\right) \\geq 8 \\eta \\sigma_{i}^{2} \\wedge 0 \\leq \\beta \\wedge \\beta \\leq 1 \\wedge 0 < \\eta \\wedge 0 < \\sigma_{i} \\wedge \\eta < \\infty \\wedge \\sigma_{i} < \\infty$"
      ],
      "text/plain": [
       "  ⎛   2   4         2    ⎞         2                                           ↪\n",
       "β⋅⎝4⋅η ⋅σᵢ  + 4⋅η⋅σᵢ  + 1⎠ ≥ 8⋅η⋅σᵢ  ∧ 0 ≤ β ∧ β ≤ 1 ∧ 0 < η ∧ 0 < σᵢ ∧ η < ∞  ↪\n",
       "\n",
       "↪         \n",
       "↪ ∧ σᵢ < ∞"
      ]
     },
     "execution_count": 54,
     "metadata": {},
     "output_type": "execute_result"
    }
   ],
   "source": [
    "sympy.reduce_inequalities([rad >= 0, s > 0, n > 0, b >= 0, b <= 1], b)"
   ]
  }
 ],
 "metadata": {
  "kernelspec": {
   "display_name": "Python 3 (ipykernel)",
   "language": "python",
   "name": "python3"
  },
  "language_info": {
   "codemirror_mode": {
    "name": "ipython",
    "version": 3
   },
   "file_extension": ".py",
   "mimetype": "text/x-python",
   "name": "python",
   "nbconvert_exporter": "python",
   "pygments_lexer": "ipython3",
   "version": "3.12.11"
  }
 },
 "nbformat": 4,
 "nbformat_minor": 5
}
