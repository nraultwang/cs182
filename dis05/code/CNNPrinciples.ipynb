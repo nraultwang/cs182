{
  "cells": [
    {
      "cell_type": "markdown",
      "metadata": {
        "id": "CkxcyKnSPOv0"
      },
      "source": [
        "# Principles of CNN\n",
        "\n",
        "Many materials are from Deep Learning book (Ian Goodfellow, Yoshua Bengio and Aaron Courville)\n",
        "\n",
        "Why does CNN perform better than MLP (Multilayer Perceptron) in various modalities? In this notebook, you will understand the principle of CNN through various examples and experiments. The three most distinct features that differentiate CNN from MLP are as follows:\n",
        "\n",
        "1. **sparse interactions** : Unlike the MLP model, which had to calculate the interactions between all neurons using matrix multiplication, CNN has sparse interactions. This is achieved by using smaller kernels in comparison to the resolution of the input image. This means that CNN can greatly reduce the amount of computation and memory requirements and improve statistical efficiency. This is also called sparse connectivity or sparse weights.\n",
        "\n",
        "\n",
        "2. **parameter sharing** : Parameter sharing means using the same parameters more than once within a model. In the case of MLP, all parameters are used only once when calculating the output within one layer. This reduces the memory used to store parameters.\n",
        "\n",
        "\n",
        "3. **translational equivariance** : Parameter sharing in convolution operation makes the convolution layer equivariant to translation of given input. When a function is equivariant to some operation, it means that when the input changes as much as the given operation, the output of the function also changes in the same way. To explain it more formally, if a function $f(x)$ is equivariant to a transformation $g(x)$, then $f(g(x)) = g(f(x))$. In the case of convolution, $g(x)$ is the translation of the input $x$.\n",
        "\n",
        "    While convolution is equivariant to translation, it is not equivariant to other transformations such as rotation, scale, or warping. Therefore, various regularizations such as data augmentations are used to obtain CNN functions that are robust to such transformations during training. However, this will not be covered in this notebook.\n",
        "\n"
      ]
    },
    {
      "cell_type": "code",
      "execution_count": null,
      "metadata": {
        "id": "JNB5XPoVPOv2"
      },
      "outputs": [],
      "source": [
        "# As usual, a bit of setup\n",
        "\n",
        "import IPython\n",
        "from IPython.display import display, HTML\n",
        "\n",
        "import torch\n",
        "import torch.nn as nn\n",
        "import torch.optim as optim\n",
        "import torch.nn.functional as F\n",
        "from torch.utils.data import DataLoader\n",
        "from torch.utils.data import sampler\n",
        "\n",
        "import torchvision.datasets as dset\n",
        "import torchvision.transforms as T\n",
        "%matplotlib inline\n",
        "\n",
        "import matplotlib.pyplot as plt\n",
        "import numpy as np\n",
        "import random\n",
        "\n",
        "seed = 7\n",
        "torch.manual_seed(seed)\n",
        "random.seed(seed)\n",
        "np.random.seed(seed)\n",
        "\n",
        "# for auto-reloading external modules\n",
        "# see http://stackoverflow.com/questions/1907993/autoreload-of-modules-in-ipython\n",
        "# %load_ext autoreload\n",
        "# %autoreload 2"
      ]
    },
    {
      "cell_type": "markdown",
      "metadata": {
        "id": "tuqj0p1SPOv3"
      },
      "source": [
        "## MLP vs CNN\n",
        "\n",
        "In this problem, we will learn why the properties that CNN have lead to better performance on the vision modality by comparing it with MLP.\n",
        "\n",
        "The number of parameters is the rule of thumb to compare the expressiveness of the neural network. So we are now comparing MLP and CNN that have the similar number of parameters. Let's see how the performance deviates."
      ]
    },
    {
      "cell_type": "markdown",
      "metadata": {
        "id": "s-OEOoPtPOv3"
      },
      "source": [
        "First, we load the CIFAR-10 dataset. This might take a couple minutes the first time you do it, but the files should stay cached after that.\n",
        "\n",
        "PyTorch provides convenient tools to automate the process of downloading\n",
        "common datasets, processing the data, and splitting into minibatches."
      ]
    },
    {
      "cell_type": "markdown",
      "metadata": {
        "id": "KRytExeRPOv4"
      },
      "source": [
        "You have an option to **use GPU by setting the flag to True below**. It is recommended, but not necessary to use GPU for this assignment. Note that if your computer does not have CUDA enabled, `torch.cuda.is_available()` will return False and this notebook will fallback to CPU mode.\n",
        "\n",
        "The global variables `dtype` and `device` will control the data types throughout this assignment.\n",
        "\n",
        "## Colab Users\n",
        "\n",
        "If you are using Colab, you need to manually switch to a GPU device. You can do this by clicking `Runtime -> Change runtime type` and selecting `GPU` under `Hardware Accelerator`. Note that you have to rerun the cells from the top since the kernel gets restarted upon switching runtimes."
      ]
    },
    {
      "cell_type": "code",
      "execution_count": null,
      "metadata": {
        "id": "kuU1DDSYPOv4"
      },
      "outputs": [],
      "source": [
        "USE_GPU = True\n",
        "\n",
        "dtype = torch.float32 # we will be using float throughout this tutorial\n",
        "\n",
        "if USE_GPU and torch.cuda.is_available():\n",
        "    device = torch.device('cuda')\n",
        "else:\n",
        "    device = torch.device('cpu')\n",
        "\n",
        "# Constant to control how frequently we print train loss\n",
        "print_every = 500\n",
        "\n",
        "print('using device:', device)"
      ]
    },
    {
      "cell_type": "markdown",
      "metadata": {
        "id": "r2TaUgumPOv6"
      },
      "source": [
        "## **Part A. Translational Equivariance**\n",
        "\n",
        "In this problem, we will check that CNN is translationally equivariant and MLP is not."
      ]
    },
    {
      "cell_type": "code",
      "execution_count": null,
      "metadata": {
        "id": "jI6ELnlVPOv6"
      },
      "outputs": [],
      "source": [
        "## Some helpers\n",
        "def torch_to_numpy(tensor):\n",
        "    tensor = tensor.cpu().detach().numpy()\n",
        "    return tensor\n",
        "\n",
        "def preprocess_mnist_data(data):\n",
        "    # padding tuples: (padding_left, padding_right, padding_top, padding_bottom)\n",
        "    # data1 = F.pad(data, (0, 28, 0, 28), mode='constant', value=0)\n",
        "    # data2 = F.pad(data, (28, 0, 0, 28), mode='constant', value=0)\n",
        "    # data3 = F.pad(data, (0, 28, 28, 0), mode='constant', value=0)\n",
        "    # data4 = F.pad(data, (28, 0, 28, 0), mode='constant', value=0)\n",
        "    # data = torch.cat((data1, data2, data3, data4), dim=0)\n",
        "\n",
        "    padded_data_list = []\n",
        "\n",
        "    for i in range(0, 28, 4):\n",
        "        for j in range(0, 28, 4):\n",
        "            padded_data_list.append(F.pad(data, (i, 28-i, j, 28-j), mode='constant', value=0))\n",
        "\n",
        "    padded_data = torch.stack(padded_data_list, dim=0)\n",
        "\n",
        "    return padded_data\n",
        "\n",
        "class CNN(nn.Module):\n",
        "    def __init__(self):\n",
        "        super().__init__()\n",
        "        self.conv1 = nn.Conv2d(1, 20, 3, 1, padding=1)\n",
        "        self.conv2 = nn.Conv2d(20, 40, 3, 1, padding=1)\n",
        "        self.conv3 = nn.Conv2d(40, 1, 3, 1, padding=1)\n",
        "        # self.conv4 = nn.Conv2d(40, 1, 3, 1, padding=1)\n",
        "    def forward(self, x):\n",
        "        x = F.relu(self.conv1(x))\n",
        "        x = F.relu(self.conv2(x))\n",
        "        x = F.relu(self.conv3(x))\n",
        "        # x = F.relu(self.conv4(x))\n",
        "        return x\n",
        "\n",
        "class MLP(nn.Module):\n",
        "    def __init__(self):\n",
        "        super().__init__()\n",
        "        self.fc1 = nn.Linear(56*56, 100)\n",
        "        self.fc2 = nn.Linear(100, 100)\n",
        "        self.fc3 = nn.Linear(100, 56*56)\n",
        "\n",
        "    def forward(self, x):\n",
        "        bs = x.shape[0]\n",
        "        x = x.flatten(start_dim=1)\n",
        "        x = F.relu(self.fc1(x))\n",
        "        x = F.relu(self.fc2(x))\n",
        "        x = F.relu(self.fc3(x))\n",
        "        x = x.reshape((bs, 1, 56, 56))\n",
        "\n",
        "        return x\n"
      ]
    },
    {
      "cell_type": "markdown",
      "metadata": {
        "id": "eqNYQPw4POv7"
      },
      "source": [
        "### Generate the sample data"
      ]
    },
    {
      "cell_type": "code",
      "execution_count": null,
      "metadata": {
        "id": "wuCfMPkvPOv7"
      },
      "outputs": [],
      "source": [
        "mnist_train = dset.MNIST('./deeplearning/datasets', train=True, download=True)\n",
        "sample_index = 12\n",
        "mnist_sample = mnist_train[sample_index][0]\n",
        "mnist_sample = T.functional.pil_to_tensor(mnist_sample)\n",
        "\n",
        "mnist_sample = preprocess_mnist_data(mnist_sample)\n",
        "print(mnist_sample.shape)"
      ]
    },
    {
      "cell_type": "markdown",
      "metadata": {
        "id": "TIIFR18GPOv7"
      },
      "source": [
        "### Visualize the output of MLP and CNN with different translations"
      ]
    },
    {
      "cell_type": "code",
      "execution_count": null,
      "metadata": {
        "id": "b3hIi7dHPOv7"
      },
      "outputs": [],
      "source": [
        "# !pip3 install ipywidgets"
      ]
    },
    {
      "cell_type": "code",
      "execution_count": null,
      "metadata": {
        "id": "LxGEIjPSPOv7"
      },
      "outputs": [],
      "source": [
        "from ipywidgets import interactive, widgets, Layout"
      ]
    },
    {
      "cell_type": "code",
      "execution_count": null,
      "metadata": {
        "id": "M9m8i6fJPOv8"
      },
      "outputs": [],
      "source": [
        "cnn_model = CNN().to(device)\n",
        "mlp_model = MLP().to(device)\n",
        "\n",
        "mnist_sample = mnist_sample.to(device)\n",
        "# Convert to float32\n",
        "mnist_sample = mnist_sample.float()\n",
        "\n",
        "cnn_output = torch_to_numpy(cnn_model(mnist_sample))\n",
        "mlp_output = torch_to_numpy(mlp_model(mnist_sample))\n",
        "mnist_sample = torch_to_numpy(mnist_sample)"
      ]
    },
    {
      "cell_type": "code",
      "execution_count": null,
      "metadata": {
        "id": "gbrfN8CwPOv8"
      },
      "outputs": [],
      "source": [
        "fig = plt.figure(figsize=(5, 5))\n",
        "\n",
        "# Main update function for interactive plot\n",
        "def update_images(i):\n",
        "    fig.clear()\n",
        "    f, axarr = plt.subplots(1,3, figsize=(15, 5))\n",
        "\n",
        "    # Show the images\n",
        "    axarr[0].imshow(mnist_sample[i, 0, :, :])\n",
        "    axarr[1].imshow(cnn_output[i, 0, :, :])\n",
        "    axarr[2].imshow(mlp_output[i, 0, :, :])\n",
        "\n",
        "    # Set the titles\n",
        "    axarr[0].set_title('Input Image')\n",
        "    axarr[1].set_title('CNN Output')\n",
        "    axarr[2].set_title('MLP Output')\n",
        "\n",
        "    plt.axis('off')\n",
        "    plt.show()\n",
        "\n",
        "# Create interactive plot\n",
        "ip = interactive(update_images, i=widgets.IntSlider(min=0, max=48, step=1, value=0))\n",
        "ip"
      ]
    },
    {
      "cell_type": "markdown",
      "metadata": {
        "id": "QivKjR8jPOv8"
      },
      "source": [
        "#### Q. What do you observe about the CNN outputs? Why is it different from the case of the MLP?\n",
        "\n",
        "A.\n",
        "\n",
        "#### Q. Note that even though the CNN is not trained, the feature maps not only are still translationally equivariant but also extract a quite good features. Why is it so?\n",
        "\n",
        "A.\n"
      ]
    },
    {
      "cell_type": "markdown",
      "metadata": {
        "id": "ApoTwjRHPOv4"
      },
      "source": [
        "## **Part B. Training CNN and MLP on CIFAR10**\n",
        "\n",
        "In this part, we will be training MLP and CNN networks on CIFAR10 dataset (https://www.cs.toronto.edu/~kriz/cifar.html)"
      ]
    },
    {
      "cell_type": "code",
      "execution_count": null,
      "metadata": {
        "id": "pYXzVOtMPOv4"
      },
      "outputs": [],
      "source": [
        "NUM_TRAIN = 49000\n",
        "\n",
        "# The torchvision.transforms package provides tools for preprocessing data\n",
        "# and for performing data augmentation; here we set up a transform to\n",
        "# preprocess the data by subtracting the mean RGB value and dividing by the\n",
        "# standard deviation of each RGB value; we've hardcoded the mean and std.\n",
        "# If we want to add data augmentations, torchvision also offers different\n",
        "# transformations that we can compose in here, though we would need to be sure\n",
        "# to have two sets of transformations: one with data augmentation for the\n",
        "# training loaders, and one without for the test and validation sets.\n",
        "transform = T.Compose([\n",
        "                T.ToTensor(),\n",
        "                T.Normalize((0.4914, 0.4822, 0.4465), (0.2023, 0.1994, 0.2010))\n",
        "            ])\n",
        "\n",
        "# We set up a Dataset object for each split (train / val / test); Datasets load\n",
        "# training examples one at a time, so we wrap each Dataset in a DataLoader which\n",
        "# iterates through the Dataset and forms minibatches. We divide the CIFAR-10\n",
        "# training set into train and val sets by passing a Sampler object to the\n",
        "# DataLoader telling how it should sample from the underlying Dataset.\n",
        "cifar10_train = dset.CIFAR10('./deeplearning/datasets', train=True, download=True,\n",
        "                             transform=transform)\n",
        "loader_train = DataLoader(cifar10_train, batch_size=64,\n",
        "                          sampler=sampler.SubsetRandomSampler(range(NUM_TRAIN)))\n",
        "\n",
        "cifar10_val = dset.CIFAR10('./deeplearning/datasets', train=True, download=True,\n",
        "                           transform=transform)\n",
        "loader_val = DataLoader(cifar10_val, batch_size=64,\n",
        "                        sampler=sampler.SubsetRandomSampler(range(NUM_TRAIN, 50000)))\n",
        "\n",
        "cifar10_test = dset.CIFAR10('./deeplearning/datasets', train=False, download=True,\n",
        "                            transform=transform)\n",
        "loader_test = DataLoader(cifar10_test, batch_size=64)"
      ]
    },
    {
      "cell_type": "markdown",
      "metadata": {
        "id": "hXnw6YCM6YNZ"
      },
      "source": [
        "### Training Helpers"
      ]
    },
    {
      "cell_type": "code",
      "execution_count": null,
      "metadata": {
        "id": "PJZy86kqPOv5"
      },
      "outputs": [],
      "source": [
        "def check_valid_accuracy(loader, model):\n",
        "    # print('Checking accuracy on validation set')\n",
        "    if not loader.dataset.train:\n",
        "        print('Checking accuracy on test set')\n",
        "    num_correct = 0\n",
        "    num_samples = 0\n",
        "    model.eval()  # set model to evaluation mode\n",
        "    with torch.no_grad():\n",
        "        for x, y in loader:\n",
        "            x = x.to(device=device, dtype=dtype)  # move to device, e.g. GPU\n",
        "            y = y.to(device=device, dtype=torch.long)\n",
        "            scores = model(x)\n",
        "            _, preds = scores.max(1)\n",
        "            num_correct += (preds == y).sum()\n",
        "            num_samples += preds.size(0)\n",
        "        acc = float(num_correct) / num_samples\n",
        "        # print('Got %d / %d correct (%.2f)' % (num_correct, num_samples, 100 * acc))\n",
        "    return acc\n",
        "\n",
        "def train_model(model, optimizer, epochs=1):\n",
        "    \"\"\"\n",
        "    Train a model on CIFAR-10 using the PyTorch Module API and prints model\n",
        "    accuracies during training.\n",
        "\n",
        "    Inputs:\n",
        "    - model: A PyTorch Module giving the model to train.\n",
        "    - optimizer: An Optimizer object we will use to train the model\n",
        "    - epochs: (Optional) A Python integer giving the number of epochs to train for\n",
        "\n",
        "    Returns: Lists of validation accuracies at the end of each epoch.\n",
        "    \"\"\"\n",
        "    model = model.to(device=device)  # move the model parameters to CPU/GPU\n",
        "    train_accs = []\n",
        "    val_accs = []\n",
        "    for e in range(epochs):\n",
        "        for t, (x, y) in enumerate(loader_train):\n",
        "            model.train()  # put model to training mode\n",
        "            x = x.to(device=device, dtype=dtype)  # move to device, e.g. GPU\n",
        "            y = y.to(device=device, dtype=torch.long)\n",
        "\n",
        "            scores = model(x)\n",
        "            loss = F.cross_entropy(scores, y)\n",
        "\n",
        "            # Zero out all of the gradients for the variables which the optimizer\n",
        "            # will update.\n",
        "            optimizer.zero_grad()\n",
        "\n",
        "            # This is the backwards pass: compute the gradient of the loss with\n",
        "            # respect to each trainable parameter of the model.\n",
        "            loss.backward()\n",
        "\n",
        "            # Actually update the parameters of the model using the gradients\n",
        "            # computed by the backwards pass.\n",
        "            optimizer.step()\n",
        "\n",
        "            if t % print_every == 0:\n",
        "                acc = check_valid_accuracy(loader_val, model)\n",
        "                print(f\"Epoch [{e}/{epochs}]: Iter {t}, loss = {round(loss.item(), 4)}, validation accuracy = {100*acc}%\")\n",
        "        val_accs.append(check_valid_accuracy(loader_val, model))\n",
        "    return val_accs"
      ]
    },
    {
      "cell_type": "markdown",
      "metadata": {
        "id": "3f5KiiFnPOv5"
      },
      "source": [
        "### Define 3 Layer MLP and CNN"
      ]
    },
    {
      "cell_type": "code",
      "execution_count": null,
      "metadata": {
        "id": "w5mfl0AnPOv5"
      },
      "outputs": [],
      "source": [
        "class ThreeLayerConvNet(nn.Module):\n",
        "    def __init__(self, in_channel, channel_1, channel_2, num_classes):\n",
        "        super().__init__()\n",
        "        self.conv1 = nn.Conv2d(in_channel, channel_1, 5, stride=1, padding=2)\n",
        "        self.conv2 = nn.Conv2d(channel_1, channel_2, 3, stride=1, padding=1)\n",
        "        self.classifier = nn.Linear(channel_2 * 32 * 32, num_classes)\n",
        "\n",
        "    def forward(self, x):\n",
        "        x = self.conv1(x)\n",
        "        x = F.relu(x)\n",
        "        x = self.conv2(x)\n",
        "        x = F.relu(x)\n",
        "        x = x.flatten(start_dim=1)\n",
        "        x = self.classifier(x)\n",
        "\n",
        "        return x\n",
        "\n",
        "class ThreeLayerMLP(nn.Module):\n",
        "    def __init__(self, input_size, hidden_size, num_classes):\n",
        "        super().__init__()\n",
        "        self.fc1 = nn.Linear(input_size, hidden_size)\n",
        "        self.fc2 = nn.Linear(hidden_size, hidden_size)\n",
        "        self.classifier = nn.Linear(hidden_size, num_classes)\n",
        "\n",
        "    def forward(self, x):\n",
        "        x = x.flatten(start_dim=1)\n",
        "        x = self.fc1(x)\n",
        "        x=  F.relu(x)\n",
        "        x = self.fc2(x)\n",
        "        x = F.relu(x)\n",
        "        x = self.classifier(x)\n",
        "\n",
        "        return x"
      ]
    },
    {
      "cell_type": "markdown",
      "metadata": {
        "id": "GWyXQQC4POv6"
      },
      "source": [
        "### Count the number of parameters\n",
        "\n",
        "Note that with the given architecture hyperparameters, the number of parameters of MLP model is slightly larger than that of CNN."
      ]
    },
    {
      "cell_type": "code",
      "execution_count": null,
      "metadata": {
        "id": "JvsLCSTCPOv6"
      },
      "outputs": [],
      "source": [
        "def count_parameters(model):\n",
        "    num_params = sum(p.numel() for p in model.parameters())\n",
        "    return num_params\n",
        "\n",
        "input_size = 3 * 32 * 32\n",
        "in_channel = 3\n",
        "channel_1 = 100\n",
        "channel_2 = 100\n",
        "num_classes = 10\n",
        "hidden_size = 350\n",
        "\n",
        "mlp_model = ThreeLayerMLP(input_size, hidden_size, num_classes)\n",
        "cnn_model = ThreeLayerConvNet(in_channel, channel_1, channel_2, num_classes)\n",
        "\n",
        "num_params_mlp = count_parameters(mlp_model)\n",
        "num_params_cnn = count_parameters(cnn_model)\n",
        "\n",
        "print(f\"# of params in MLP model : {num_params_mlp}\")\n",
        "print(f\"# of params in CNN model : {num_params_cnn}\")\n"
      ]
    },
    {
      "cell_type": "markdown",
      "metadata": {
        "id": "bkTwgkDhPOv6"
      },
      "source": [
        "### Training the model\n",
        "Now we will train both MLP and CNN."
      ]
    },
    {
      "cell_type": "code",
      "execution_count": null,
      "metadata": {
        "id": "bSQx4XexPOv6"
      },
      "outputs": [],
      "source": [
        "learning_rate = 1e-2\n",
        "\n",
        "mlp_optimizer = optim.SGD(mlp_model.parameters(), lr=learning_rate)\n",
        "cnn_optimizer = optim.SGD(cnn_model.parameters(), lr=learning_rate)\n",
        "\n",
        "# total_epochs = 2\n",
        "total_epochs = 5\n",
        "\n",
        "print(\"Start MLP training...\")\n",
        "mlp_accuracy = train_model(mlp_model, mlp_optimizer, total_epochs)\n",
        "print(\"Start CNN training...\")\n",
        "cnn_accuracy = train_model(cnn_model, cnn_optimizer, total_epochs)"
      ]
    },
    {
      "cell_type": "markdown",
      "metadata": {
        "id": "CnhwA3scPOv6"
      },
      "source": [
        "#### Q. What is the final accuracy of MLP and CNN models? Why are they different?\n",
        "\n",
        "A.\n",
        "\n",
        "#### Q. What would happen if we froze the CNN backbone and trained only the final layer? How would you implement it?\n",
        "\n",
        "A."
      ]
    },
    {
      "cell_type": "markdown",
      "metadata": {},
      "source": [
        "Below is one example implementation of training a linear layer on top of a frozen CNN backbone. Run the following cells and compare the accuracy and number of parameters with the previous results."
      ]
    },
    {
      "cell_type": "code",
      "execution_count": null,
      "metadata": {},
      "outputs": [],
      "source": [
        "class ThreeLayerConvNetDetached(nn.Module):\n",
        "    def __init__(self, in_channel, channel_1, channel_2, num_classes):\n",
        "        super().__init__()\n",
        "        self.conv1 = nn.Conv2d(in_channel, channel_1, 5, stride=1, padding=2)\n",
        "        self.conv2 = nn.Conv2d(channel_1, channel_2, 3, stride=1, padding=1)\n",
        "        self.classifier = nn.Linear(channel_2 * 32 * 32, num_classes)\n",
        "\n",
        "    def forward(self, x):\n",
        "        x = self.conv1(x)\n",
        "        x = F.relu(x)\n",
        "        x = self.conv2(x)\n",
        "        x = F.relu(x)\n",
        "        x = x.flatten(start_dim=1).detach()\n",
        "        x = self.classifier(x)\n",
        "\n",
        "        return x"
      ]
    },
    {
      "cell_type": "code",
      "execution_count": null,
      "metadata": {},
      "outputs": [],
      "source": [
        "detached_cnn_model = ThreeLayerConvNetDetached(in_channel, channel_1, channel_2, num_classes)\n",
        "detached_cnn_optimizer = optim.SGD(detached_cnn_model.parameters(), lr=learning_rate)"
      ]
    },
    {
      "cell_type": "code",
      "execution_count": null,
      "metadata": {},
      "outputs": [],
      "source": [
        "print(\"Start Detached CNN training...\")\n",
        "detached_cnn_accuracy = train_model(detached_cnn_model, detached_cnn_optimizer, total_epochs)"
      ]
    },
    {
      "cell_type": "markdown",
      "metadata": {},
      "source": [
        "#### Q. How does the accuracy and number of parameters change compared to the previous MLP and CNN models? Why do you think this is?\n",
        "\n",
        "A.\n",
        "\n",
        "#### Q. How many trainable parameters are there in this new model?\n",
        "\n",
        "A."
      ]
    },
    {
      "cell_type": "markdown",
      "metadata": {},
      "source": []
    }
  ],
  "metadata": {
    "accelerator": "GPU",
    "colab": {
      "gpuType": "T4",
      "provenance": []
    },
    "kernelspec": {
      "display_name": "Python 3",
      "name": "python3"
    },
    "language_info": {
      "codemirror_mode": {
        "name": "ipython",
        "version": 3
      },
      "file_extension": ".py",
      "mimetype": "text/x-python",
      "name": "python",
      "nbconvert_exporter": "python",
      "pygments_lexer": "ipython3",
      "version": "3.9.16"
    },
    "vscode": {
      "interpreter": {
        "hash": "9604dfe0e4c72ca50dc6ed9879659f643ef83f1cac17a709ea514e2e16450d20"
      }
    }
  },
  "nbformat": 4,
  "nbformat_minor": 0
}
