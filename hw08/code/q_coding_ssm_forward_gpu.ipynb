{
 "cells": [
  {
   "cell_type": "markdown",
   "metadata": {
    "id": "l0iVpOFAytxD"
   },
   "source": [
    "# Introduction\n",
    "\n",
    "In this notebook, we'll implement implement the forward pass of an SSM (State Space Model) using recursion and convolution based approaches. We'll also compare the two approaches in terms of speed and memory usage.\n",
    "\n",
    "You will need GPU for this notebook which can be enabled via changing the runtime.\n",
    "\n",
    "You can copy your solutions from the `q_coding_ssm_forward_cpu` notebook for the first part of the notebook."
   ]
  },
  {
   "cell_type": "markdown",
   "metadata": {
    "id": "OIngxUwVytxE"
   },
   "source": [
    "## Imports"
   ]
  },
  {
   "cell_type": "code",
   "execution_count": null,
   "metadata": {
    "execution": {
     "iopub.execute_input": "2025-03-12T21:21:09.969698Z",
     "iopub.status.busy": "2025-03-12T21:21:09.969368Z",
     "iopub.status.idle": "2025-03-12T21:21:14.057692Z",
     "shell.execute_reply": "2025-03-12T21:21:14.056717Z",
     "shell.execute_reply.started": "2025-03-12T21:21:09.969663Z"
    },
    "id": "-NnY8J6HytxE",
    "trusted": true
   },
   "outputs": [],
   "source": [
    "import time\n",
    "import math\n",
    "import matplotlib.pyplot as plt\n",
    "\n",
    "import torch\n",
    "import numpy as np\n",
    "import torch.nn.functional as F\n",
    "\n",
    "torch.set_default_device('cuda')"
   ]
  },
  {
   "cell_type": "markdown",
   "metadata": {
    "id": "JRxe5357ytxF"
   },
   "source": [
    "# SSM Update Rule\n",
    "\n",
    "We consider an RNN described by the update:\n",
    "\n",
    "$$\n",
    "h_{t+1} = W\\,h_t + U\\,x_t + b\n",
    "$$\n",
    "\n",
    "for $t = 0, 1, \\ldots, T - 1$. The variables are:\n",
    "\n",
    "- $h_t \\in R^H$, the hidden state at time $t$.\n",
    "- $x_t \\in R^{N \\times D}$, the input at time $t$.\n",
    "- $W \\in R^{H \\times H}$, the recurrent weight matrix.\n",
    "- $U \\in R^{H \\times D}$, the input projection matrix.\n",
    "- $b \\in R^H$, the bias vector.\n",
    "\n",
    "$N$ is the batch size, $D$ is the input dimension, and $H$ is the hidden state dimension. We assume $h_0 = 0$, the all-zero vector of dimension $H$."
   ]
  },
  {
   "cell_type": "markdown",
   "metadata": {
    "id": "nUHIQVVUytxF"
   },
   "source": [
    "Below you will implement the forward pass for the SSM using recursion based approach. The `unrolled_ssm_forward` function will take weights $W$, $U$, $b$ and input $x$ and return the hidden states $h$ across different time steps."
   ]
  },
  {
   "cell_type": "code",
   "execution_count": null,
   "metadata": {
    "execution": {
     "iopub.execute_input": "2025-03-12T21:21:16.954857Z",
     "iopub.status.busy": "2025-03-12T21:21:16.954402Z",
     "iopub.status.idle": "2025-03-12T21:21:16.962704Z",
     "shell.execute_reply": "2025-03-12T21:21:16.961525Z",
     "shell.execute_reply.started": "2025-03-12T21:21:16.954797Z"
    },
    "id": "R8phBnwkytxF",
    "trusted": true
   },
   "outputs": [],
   "source": [
    "def unrolled_ssm_forward(W, U, b, x):\n",
    "    \"\"\"\n",
    "    Unroll the linear RNN in time:\n",
    "        h_{t+1} = W h_t + U x_t + b\n",
    "    with initial h_0 = 0.\n",
    "\n",
    "    Args:\n",
    "      W: (H, H) weight matrix\n",
    "      U: (H, D) input projection\n",
    "      b: (H,)   bias\n",
    "      x: (N, T, D) input sequence over T steps\n",
    "    Returns:\n",
    "      h_all: (N, T, H) hidden states for t=1..T\n",
    "             (h_all[t] corresponds to h_{t+1} in the usual notation).\n",
    "    \"\"\"\n",
    "    ##############################################################################\n",
    "    #                   TODO: Implement the recurrent pass here                  #\n",
    "    ##############################################################################\n",
    "\n",
    "    ##############################################################################\n",
    "    #                               END OF YOUR CODE                             #\n",
    "    ##############################################################################\n",
    "    return h_all"
   ]
  },
  {
   "cell_type": "markdown",
   "metadata": {
    "id": "L-XNCy-jytxF"
   },
   "source": [
    "# Convolution Based Implementation\n",
    "\n",
    "In the previous problem, you showed that the forward pass of an SSM can be implmemented using a convolution operation. In this problem, you will implement the forward pass of an SSM using a convolution based approach. You can assume that T is a power of 2.\n",
    "\n",
    "\n",
    "You will implement two functions\n",
    "- `make_conv_kernel(W, T)`: This function will take the recurrent weight matrix $W$ and the number of time steps $T$ and return the convolution kernel $K$. Given that T is a power of 2, you can implement this using a divide and conquer based approach.\n",
    "- `conv_ssm_forward(W, U, b, x)`: This function will take weights $W$, $U$, $b$ and input $x$ and return the hidden states $h$ across different time steps.\n",
    "\n"
   ]
  },
  {
   "cell_type": "code",
   "execution_count": null,
   "metadata": {
    "execution": {
     "iopub.execute_input": "2025-03-12T21:21:18.632154Z",
     "iopub.status.busy": "2025-03-12T21:21:18.631819Z",
     "iopub.status.idle": "2025-03-12T21:21:18.638878Z",
     "shell.execute_reply": "2025-03-12T21:21:18.637950Z",
     "shell.execute_reply.started": "2025-03-12T21:21:18.632130Z"
    },
    "id": "pBRUBYUe2e2y",
    "trusted": true
   },
   "outputs": [],
   "source": [
    "def make_conv_kernel(W, T):\n",
    "    \"\"\"\n",
    "    Build a 3D kernel tensor K of shape (H, H, T) we will use when implementing\n",
    "    the ssm forward pass using conv1d.\n",
    "\n",
    "    Args:\n",
    "      W: (H, H) weight matrix\n",
    "      T: scalar\n",
    "\n",
    "    Returns:\n",
    "      kernel_for_conv: (H, H, T) tensor\n",
    "    \"\"\"\n",
    "    ##############################################################################\n",
    "    #                         TODO: Implement the kernel here                    #\n",
    "    ##############################################################################\n",
    "\n",
    "    ##############################################################################\n",
    "    #                               END OF YOUR CODE                             #\n",
    "    ##############################################################################\n",
    "    return kernel_for_conv"
   ]
  },
  {
   "cell_type": "code",
   "execution_count": null,
   "metadata": {
    "execution": {
     "iopub.execute_input": "2025-03-12T21:21:20.408043Z",
     "iopub.status.busy": "2025-03-12T21:21:20.407722Z",
     "iopub.status.idle": "2025-03-12T21:21:20.412975Z",
     "shell.execute_reply": "2025-03-12T21:21:20.412100Z",
     "shell.execute_reply.started": "2025-03-12T21:21:20.408016Z"
    },
    "id": "9bXNEWxfytxF",
    "trusted": true
   },
   "outputs": [],
   "source": [
    "def conv_ssm_forward(W, U, b, x):\n",
    "    \"\"\"\n",
    "    Convolution-based forward pass for a batch of sequences.\n",
    "\n",
    "    RNN update:  h_{t+1} = W h_t + U x_t + b\n",
    "\n",
    "    Args:\n",
    "      W: (H, H) weight matrix\n",
    "      U: (H, D) input projection\n",
    "      b: (H,)   bias\n",
    "      x: (N, T, D) input (batch=N, time steps=T, input dim=D)\n",
    "\n",
    "    Returns:\n",
    "      h_all: (N, T, H) hidden states\n",
    "    \"\"\"\n",
    "    N, T, D = x.shape\n",
    "    H = W.shape[0]\n",
    "\n",
    "    s = x @ U.T + b  \n",
    "\n",
    "    s = s.permute(0, 2, 1) \n",
    "\n",
    "    # Build the kernel with shape (H, H, T).\n",
    "    kernel = make_conv_kernel(W, T)\n",
    "    ##############################################################################\n",
    "    #                         TODO: Implement the convolution here               #\n",
    "    ##############################################################################\n",
    "\n",
    "    ##############################################################################\n",
    "    #                               END OF YOUR CODE                             #\n",
    "    ##############################################################################\n",
    "    return h_all"
   ]
  },
  {
   "cell_type": "markdown",
   "metadata": {
    "id": "mmcD4eJPytxG"
   },
   "source": [
    "# Sanity Check\n",
    "We can compare the outputs of the two implementations to check if they are consistent."
   ]
  },
  {
   "cell_type": "code",
   "execution_count": null,
   "metadata": {
    "colab": {
     "base_uri": "https://localhost:8080/"
    },
    "execution": {
     "iopub.execute_input": "2025-03-12T21:21:23.176996Z",
     "iopub.status.busy": "2025-03-12T21:21:23.176662Z",
     "iopub.status.idle": "2025-03-12T21:21:24.480211Z",
     "shell.execute_reply": "2025-03-12T21:21:24.479403Z",
     "shell.execute_reply.started": "2025-03-12T21:21:23.176970Z"
    },
    "id": "cbBabsamytxG",
    "outputId": "a0b8ba23-225b-4859-bf77-3cb681924bf1",
    "trusted": true
   },
   "outputs": [],
   "source": [
    "def sanity_check():\n",
    "    T = 8   # number of time steps\n",
    "    H = 4   # hidden dimension\n",
    "    D = 3   # input dimension\n",
    "    N = 2\n",
    "\n",
    "    torch.manual_seed(0)\n",
    "\n",
    "    W = torch.randn(H, H) * 0.1\n",
    "    U = torch.randn(H, D) * 0.1\n",
    "    b = torch.randn(H) * 0.1\n",
    "\n",
    "    x = torch.randn(N, T, D)\n",
    "\n",
    "    h_unrolled = unrolled_ssm_forward(W, U, b, x)\n",
    "    h_conv = conv_ssm_forward(W, U, b, x)\n",
    "\n",
    "    diff = (h_unrolled - h_conv).abs().max()\n",
    "    print(\"Unrolled h(t):\")\n",
    "    print(h_unrolled)\n",
    "    print(\"\\nConv-based h(t):\")\n",
    "    print(h_conv)\n",
    "    print(\"\\nMax absolute difference:\", diff.item())\n",
    "\n",
    "sanity_check()"
   ]
  },
  {
   "cell_type": "markdown",
   "metadata": {
    "id": "axpXeGcNytxG"
   },
   "source": [
    "# Implementation Complexity\n",
    "\n",
    "We can compare the two implementations in terms of efficiency. Particularly, we will compare the time taken by the two implementations to compute the hidden states for a given input and weights with varying number of time steps."
   ]
  },
  {
   "cell_type": "code",
   "execution_count": null,
   "metadata": {
    "colab": {
     "base_uri": "https://localhost:8080/",
     "height": 442,
     "referenced_widgets": [
      "1bc1ff9def86474b996892892fc154fa",
      "31517fb499da41d88714803f2efe9d39",
      "05c884319fbe4e389897085b74e19034",
      "fda49db1f0c143e694d718a0909614af",
      "3f83a802b7ae4401a39706d765429ec1",
      "4b9cfceee3f14546929a960ca1fd5593",
      "b868008db13d49409436152b8ce7a845"
     ]
    },
    "execution": {
     "iopub.execute_input": "2025-03-12T21:26:02.117139Z",
     "iopub.status.busy": "2025-03-12T21:26:02.116802Z",
     "iopub.status.idle": "2025-03-12T21:26:47.377750Z",
     "shell.execute_reply": "2025-03-12T21:26:47.377035Z",
     "shell.execute_reply.started": "2025-03-12T21:26:02.117113Z"
    },
    "id": "Vgh6sC3p5UqJ",
    "outputId": "f57a0b56-7d7c-422f-c67a-58bddf2cf585",
    "trusted": true
   },
   "outputs": [],
   "source": [
    "import ipywidgets as widgets\n",
    "from ipywidgets import interact\n",
    "\n",
    "def measure_runtime(method_fn, W, U, b, x, warmup=1, repeats=10):\n",
    "    # Warm-up runs (ignored in timing):\n",
    "    for _ in range(warmup):\n",
    "        method_fn(W, U, b, x)\n",
    "\n",
    "    # Timed runs:\n",
    "    start = time.time()\n",
    "    for _ in range(repeats):\n",
    "        method_fn(W, U, b, x)\n",
    "    end = time.time()\n",
    "\n",
    "    avg_time = (end - start) / repeats\n",
    "    return avg_time\n",
    "\n",
    "\n",
    "def run():\n",
    "    T_values_cache = {}\n",
    "    times_unrolled_vs_T_cache = {}\n",
    "    times_conv_vs_T_cache = {}\n",
    "\n",
    "    for H in [4, 8, 16, 32, 64, 128, 256, 512]:\n",
    "      # We'll keep D, N fixed\n",
    "      D = 32\n",
    "      N = 32\n",
    "\n",
    "      T_values = [8, 32, 128, 256, 512]\n",
    "\n",
    "      # Build random U, b\n",
    "      U = torch.randn(H, D)*0.1\n",
    "      b = torch.randn(H)*0.1\n",
    "\n",
    "      times_unrolled_vs_T = []\n",
    "      times_conv_vs_T = []\n",
    "\n",
    "      for T in T_values:\n",
    "\n",
    "          diag_vals = torch.randn(H)*0.05\n",
    "          W = torch.randn(H, H)*0.05\n",
    "          x = torch.randn(N, T, D)\n",
    "\n",
    "          t_unrolled = measure_runtime(unrolled_ssm_forward, W, U, b, x)\n",
    "\n",
    "          t_conv = measure_runtime(conv_ssm_forward, W, U, b, x)\n",
    "\n",
    "          times_unrolled_vs_T.append(t_unrolled)\n",
    "          times_conv_vs_T.append(t_conv)\n",
    "\n",
    "      T_values_cache[H] = T_values\n",
    "      times_unrolled_vs_T_cache[H] = times_unrolled_vs_T\n",
    "      times_conv_vs_T_cache[H] = times_conv_vs_T\n",
    "    return T_values_cache, times_unrolled_vs_T_cache, times_conv_vs_T_cache\n",
    "\n",
    "T_values_cache, times_unrolled_vs_T_cache, times_conv_vs_T_cache = run()\n",
    "\n",
    "@interact(H=widgets.FloatLogSlider(min=2, max=9, base=2, value=4, step=1))\n",
    "def interactive_benchmark(H):\n",
    "    \"\"\"\n",
    "    Compare unrolled vs. diagonal-convolution RNN forward for various T,\n",
    "    at a chosen hidden dimension H from the slider.\n",
    "    \"\"\"\n",
    "    H = int(H)\n",
    "    T_values = T_values_cache[H]\n",
    "    T_unrolled = times_unrolled_vs_T_cache[H]\n",
    "    T_conv = times_conv_vs_T_cache[H]\n",
    "\n",
    "    # Plot\n",
    "    plt.figure(figsize=(6,4))\n",
    "    plt.plot(T_values, T_unrolled, label=\"Unrolled\", marker='o')\n",
    "    plt.plot(T_values, T_conv, label=\"Conv\", marker='s')\n",
    "    plt.title(f\"Runtime vs T, H={H}\")\n",
    "    plt.xlabel(\"Time Steps (T)\")\n",
    "    plt.ylabel(\"Runtime (sec)\")\n",
    "    plt.yscale('log')\n",
    "    plt.grid(True)\n",
    "    plt.legend()\n",
    "    plt.show()\n"
   ]
  },
  {
   "cell_type": "markdown",
   "metadata": {
    "id": "VFu8Leoo7URC"
   },
   "source": [
    "### Question 6\n",
    "\n",
    "What do you observe about the runtime of the two implementations as $T$ and $H$ increase? Do you observe the same trend as the CPU notebook? Explain your reasoning."
   ]
  },
  {
   "cell_type": "markdown",
   "metadata": {
    "id": "nyb2V2wR8QHw"
   },
   "source": [
    "# Introducing structure: Diagonal Weight Matrics\n",
    "\n",
    "We can optimize the convolution implemntation via adding a constraint on the $W$ matrix ensuring it is diagonal. We can make the convolution implementation more efficient by leveraging depthwise convolutions for implementing the forward operation."
   ]
  },
  {
   "cell_type": "code",
   "execution_count": null,
   "metadata": {},
   "outputs": [],
   "source": [
    "def make_diag_depthwise_kernel(W, T):\n",
    "    \"\"\"\n",
    "    Construct a depthwise 1D conv kernel for W with shape (H,H). W is a diagonal matrix.\n",
    "\n",
    "    Args:\n",
    "      W: (H, H) diagonal matrix\n",
    "      T: (int) number of time steps\n",
    "\n",
    "    Return:\n",
    "      kernel of shape (H, 1, T), which can be used in depthwise convolution\n",
    "    \"\"\"\n",
    "    ##############################################################################\n",
    "    #                         TODO: Implement the kernel here                    #\n",
    "    ##############################################################################\n",
    "\n",
    "    ##############################################################################\n",
    "    #                               END OF YOUR CODE                             #\n",
    "    ##############################################################################\n",
    "    return kernel"
   ]
  },
  {
   "cell_type": "code",
   "execution_count": null,
   "metadata": {
    "execution": {
     "iopub.execute_input": "2025-03-12T21:26:47.379231Z",
     "iopub.status.busy": "2025-03-12T21:26:47.378946Z",
     "iopub.status.idle": "2025-03-12T21:26:47.388976Z",
     "shell.execute_reply": "2025-03-12T21:26:47.387914Z",
     "shell.execute_reply.started": "2025-03-12T21:26:47.379209Z"
    },
    "id": "wAd1StPf49ce",
    "trusted": true
   },
   "outputs": [],
   "source": [
    "def diag_conv_ssm_forward(W, U, b, x):\n",
    "    \"\"\"\n",
    "    Convolution-based forward pass for an RNN with W\n",
    "\n",
    "    RNN update:  h_{t+1} = W h_t + U x_t + b\n",
    "    but W is diagonal, so h_{t+1}(i) = diagW[i]*h_t(i) + [U x_t + b](i).\n",
    "\n",
    "    Args:\n",
    "      W: (H, H) [diagonal in practice]\n",
    "      U: (H, D)\n",
    "      b: (H,)\n",
    "      x: (N, T, D) => N = batch, T = time steps, D = input dim\n",
    "\n",
    "    Returns:\n",
    "      h_all: (N, T, H)\n",
    "    \"\"\"\n",
    "    N, T, D = x.shape\n",
    "    H = W.shape[0]\n",
    "\n",
    "    s = x @ U.T + b\n",
    "\n",
    "    s = s.permute(0, 2, 1)  # (N,H,T)\n",
    "\n",
    "    # Build kernel (H,1,T) for depthwise conv\n",
    "    kernel = make_diag_depthwise_kernel(W, T)\n",
    "    ##############################################################################\n",
    "    #                         TODO: Implement the convolution here               #\n",
    "    #                         Hint: Use `groups` argument                        #\n",
    "    ##############################################################################\n",
    "    \n",
    "    ##############################################################################\n",
    "    #                               END OF YOUR CODE                             #\n",
    "    ##############################################################################\n",
    "    return h_all\n"
   ]
  },
  {
   "cell_type": "markdown",
   "metadata": {
    "id": "dShADk7XA_eP"
   },
   "source": [
    "# Optimizing the recurrent implementation\n",
    "\n",
    "Similarly, we can also optimize the recurrent implementation by using the diagonal nature of the $W$ matrix."
   ]
  },
  {
   "cell_type": "code",
   "execution_count": null,
   "metadata": {
    "execution": {
     "iopub.execute_input": "2025-03-12T21:26:47.391113Z",
     "iopub.status.busy": "2025-03-12T21:26:47.390752Z",
     "iopub.status.idle": "2025-03-12T21:26:47.407218Z",
     "shell.execute_reply": "2025-03-12T21:26:47.406254Z",
     "shell.execute_reply.started": "2025-03-12T21:26:47.391080Z"
    },
    "id": "iafrjZQ69sbb",
    "trusted": true
   },
   "outputs": [],
   "source": [
    "def diag_unrolled_ssm_forward(W, U, b, x):\n",
    "    \"\"\"\n",
    "    Forward pass for:\n",
    "       h_{t+1} = W h_t + U x_t + b\n",
    "    but W is diagonal, i.e. W = diag(diagW).\n",
    "\n",
    "    Args:\n",
    "      W: (H, H) diagonal matrix\n",
    "      U: (H, D)\n",
    "      b: (H,)\n",
    "      x: (N, T, D)  => batch=N, time steps=T, input dim=D\n",
    "\n",
    "    Returns:\n",
    "      h_all: (N, T, H)\n",
    "    \"\"\"\n",
    "    ##############################################################################\n",
    "    #             TODO: Implement the optimized recurrent pass here              #\n",
    "    ##############################################################################\n",
    "\n",
    "    ##############################################################################\n",
    "    #                               END OF YOUR CODE                             #\n",
    "    ##############################################################################\n",
    "    return h_all"
   ]
  },
  {
   "cell_type": "markdown",
   "metadata": {
    "id": "boSFN0jYCA7w"
   },
   "source": [
    "# Sanity Check\n",
    "\n",
    "We can compare the outputs of the two implementations to check if they are consistent similar to above."
   ]
  },
  {
   "cell_type": "code",
   "execution_count": null,
   "metadata": {
    "colab": {
     "base_uri": "https://localhost:8080/"
    },
    "execution": {
     "iopub.execute_input": "2025-03-12T21:26:47.408676Z",
     "iopub.status.busy": "2025-03-12T21:26:47.408326Z",
     "iopub.status.idle": "2025-03-12T21:27:27.011936Z",
     "shell.execute_reply": "2025-03-12T21:27:27.011102Z",
     "shell.execute_reply.started": "2025-03-12T21:26:47.408638Z"
    },
    "id": "6035Z9X_-E9u",
    "outputId": "0c42089a-8004-45fa-8b09-bb0fed135b75",
    "trusted": true
   },
   "outputs": [],
   "source": [
    "def diag_sanity_check():\n",
    "    T = 8   # number of time steps\n",
    "    H = 4   # hidden dimension\n",
    "    D = 3   # input dimension\n",
    "    N = 2\n",
    "\n",
    "    torch.manual_seed(0)\n",
    "\n",
    "    W = torch.eye(H) * 0.1 #### WE USE A DIAGONAL MATRIX HERE\n",
    "\n",
    "    U = torch.randn(H, D) * 0.1\n",
    "    b = torch.randn(H) * 0.1\n",
    "\n",
    "    x = torch.randn(N, T, D)\n",
    "\n",
    "    h_unrolled = diag_unrolled_ssm_forward(W, U, b, x)\n",
    "\n",
    "    h_conv = diag_conv_ssm_forward(W, U, b, x)\n",
    "\n",
    "    diff = (h_unrolled - h_conv).abs().max()\n",
    "    print(\"Unrolled h(t):\")\n",
    "    print(h_unrolled)\n",
    "    print(\"\\nConv-based h(t):\")\n",
    "    print(h_conv)\n",
    "    print(\"\\nMax absolute difference:\", diff.item())\n",
    "\n",
    "diag_sanity_check()"
   ]
  },
  {
   "cell_type": "markdown",
   "metadata": {
    "id": "TU_buYdy8vhw"
   },
   "source": [
    "# Measure Runtime with Optimization\n",
    "\n",
    "Similarly, we will measure performance optimization with the diagonalized implementations."
   ]
  },
  {
   "cell_type": "code",
   "execution_count": null,
   "metadata": {
    "colab": {
     "base_uri": "https://localhost:8080/",
     "height": 442,
     "referenced_widgets": [
      "70e86ced0c3e4832a972cadbbf5f49b2",
      "6c1a347daf3e45fc83b596fa3e251f2f",
      "093496edd5da4454ad4a455eb5d9f194",
      "8447bf7681904ff88b92881fc5624256",
      "a5f03c2234cc49ce8a420e2ea1117115",
      "9acf072c54784e66b0673ab1609c344a",
      "3643484842d44388931460ef94f02e6e"
     ]
    },
    "execution": {
     "iopub.execute_input": "2025-03-12T21:27:27.013154Z",
     "iopub.status.busy": "2025-03-12T21:27:27.012816Z",
     "iopub.status.idle": "2025-03-12T21:27:41.463760Z",
     "shell.execute_reply": "2025-03-12T21:27:41.462903Z",
     "shell.execute_reply.started": "2025-03-12T21:27:27.013121Z"
    },
    "id": "APSy41yT5vEx",
    "outputId": "1dc28bcb-e9fc-462e-ac19-d9b6acdbb7bd",
    "trusted": true
   },
   "outputs": [],
   "source": [
    "def diag_run():\n",
    "    T_values_cache = {}\n",
    "    times_unrolled_vs_T_cache = {}\n",
    "    times_conv_vs_T_cache = {}\n",
    "\n",
    "    for H in [4, 8, 16, 32, 64, 128, 256, 512]:\n",
    "      # We'll keep D, N fixed\n",
    "      D = 32\n",
    "      N = 512\n",
    "\n",
    "      T_values = [8, 32, 128, 256, 512]\n",
    "\n",
    "      # Build random U, b\n",
    "      U = torch.randn(H, D)*0.1\n",
    "      b = torch.randn(H)*0.1\n",
    "\n",
    "      times_unrolled_vs_T = []\n",
    "      times_conv_vs_T = []\n",
    "\n",
    "      for T in T_values:\n",
    "          diag_vals = torch.randn(H)*0.05\n",
    "\n",
    "          W = torch.eye(H, H)*0.05 #### WE USE A DIAGONAL MATRIX HERE\n",
    "\n",
    "          x = torch.randn(N, T, D)\n",
    "\n",
    "          t_unrolled = measure_runtime(diag_unrolled_ssm_forward, W, U, b, x)\n",
    "\n",
    "          t_conv = measure_runtime(diag_conv_ssm_forward, W, U, b, x)\n",
    "\n",
    "          times_unrolled_vs_T.append(t_unrolled)\n",
    "          times_conv_vs_T.append(t_conv)\n",
    "\n",
    "      T_values_cache[H] = T_values\n",
    "      times_unrolled_vs_T_cache[H] = times_unrolled_vs_T\n",
    "      times_conv_vs_T_cache[H] = times_conv_vs_T\n",
    "    return T_values_cache, times_unrolled_vs_T_cache, times_conv_vs_T_cache\n",
    "\n",
    "diag_T_values_cache, diag_times_unrolled_vs_T_cache, diag_times_conv_vs_T_cache = diag_run()\n",
    "\n",
    "@interact(H=widgets.FloatLogSlider(min=2, max=9, base=2, value=4, step=1))\n",
    "def interactive_benchmark(H):\n",
    "    \"\"\"\n",
    "    Compare unrolled vs. diagonal-convolution RNN forward for various T,\n",
    "    at a chosen hidden dimension H from the slider.\n",
    "    \"\"\"\n",
    "    H = int(H)\n",
    "    T_values = diag_T_values_cache[H]\n",
    "    T_unrolled = diag_times_unrolled_vs_T_cache[H]\n",
    "    T_conv = diag_times_conv_vs_T_cache[H]\n",
    "\n",
    "    # Plot\n",
    "    plt.figure(figsize=(6,4))\n",
    "    plt.plot(T_values, T_unrolled, label=\"Unrolled\", marker='o')\n",
    "    plt.plot(T_values, T_conv, label=\"Diag-Conv\", marker='s')\n",
    "    plt.title(f\"Runtime vs T, H={H} diagonal weights\")\n",
    "    plt.xlabel(\"Time Steps (T)\")\n",
    "    plt.ylabel(\"Runtime (sec)\")\n",
    "    plt.grid(True)\n",
    "    plt.legend()\n",
    "    plt.show()\n"
   ]
  },
  {
   "cell_type": "markdown",
   "metadata": {
    "id": "lZCmvFSfCs-V"
   },
   "source": [
    "### Question 7\n",
    "\n",
    "What do you observe here? How do your findings different from the unstructured matrix case? Explain your reasoning."
   ]
  }
 ],
 "metadata": {
  "accelerator": "GPU",
  "colab": {
   "gpuType": "T4",
   "provenance": []
  },
  "kaggle": {
   "accelerator": "nvidiaTeslaT4",
   "dataSources": [],
   "dockerImageVersionId": 30919,
   "isGpuEnabled": true,
   "isInternetEnabled": true,
   "language": "python",
   "sourceType": "notebook"
  },
  "kernelspec": {
   "display_name": "npy",
   "language": "python",
   "name": "python3"
  },
  "language_info": {
   "codemirror_mode": {
    "name": "ipython",
    "version": 3
   },
   "file_extension": ".py",
   "mimetype": "text/x-python",
   "name": "python",
   "nbconvert_exporter": "python",
   "pygments_lexer": "ipython3",
   "version": "3.10.15"
  },
  "widgets": {
   "application/vnd.jupyter.widget-state+json": {
    "05c884319fbe4e389897085b74e19034": {
     "model_module": "@jupyter-widgets/output",
     "model_module_version": "1.0.0",
     "model_name": "OutputModel",
     "state": {
      "_dom_classes": [],
      "_model_module": "@jupyter-widgets/output",
      "_model_module_version": "1.0.0",
      "_model_name": "OutputModel",
      "_view_count": null,
      "_view_module": "@jupyter-widgets/output",
      "_view_module_version": "1.0.0",
      "_view_name": "OutputView",
      "layout": "IPY_MODEL_b868008db13d49409436152b8ce7a845",
      "msg_id": "",
      "outputs": [
       {
        "data": {
         "image/png": "iVBORw0KGgoAAAANSUhEUgAAAiMAAAGJCAYAAABYRTOkAAAAOnRFWHRTb2Z0d2FyZQBNYXRwbG90bGliIHZlcnNpb24zLjEwLjAsIGh0dHBzOi8vbWF0cGxvdGxpYi5vcmcvlHJYcgAAAAlwSFlzAAAPYQAAD2EBqD+naQAAcF1JREFUeJzt3XdcVfX/wPHXvZc9LoiAgOKeuHeO0txajjS35cp+GWY2vu1c2V5Wkk21YY5MLdNMc2eae6LmBhVERfa63Ht+fxy5ioAyLpwLvJ+PB4/OPffce973g8Gbz3h/dIqiKAghhBBCaESvdQBCCCGEKN8kGRFCCCGEpiQZEUIIIYSmJBkRQgghhKYkGRFCCCGEpiQZEUIIIYSmJBkRQgghhKYkGRFCCCGEpiQZEUIIIYSmJBkRQuSg0+mYPn261mEIIcoJSUaE0MiCBQvQ6XTWLwcHBypXrsyYMWO4ePFisd9/zZo15T7huP17kNdX9erVC/ze1atX58EHH8z1uc2bN6PT6Vi2bFkRP0FOEyZMQKfT5Xnv3377jRYtWuDi4kLVqlWZNm0amZmZNo9DiIJw0DoAIcq7mTNnUqNGDdLS0ti5cycLFizg77//5siRI7i4uBTbfdesWUNYWFiuCUlqaioODmX/x8N9993HDz/8kO3cY489Rps2bXj88cet5zw8PEo6tELZs2cPCxYsyPPfzR9//MGAAQPo3Lkzn332GYcPH2bWrFnExMQwd+7cEo5WiJvK/k8bIexc7969adWqFaD+IvT19eXdd9/lt99+Y8iQIZrEVJxJkD2pWbMmNWvWzHbuiSeeoGbNmowaNUqjqApHURQmT57Mo48+yoYNG3K95vnnn6dJkyasW7fOmmwajUbeeustnn76aerXr1+SIQthJcM0QtiZe++9F4DTp09bz3Xu3JnOnTvnuHbMmDHZhhDOnTuHTqfjgw8+4KuvvqJWrVo4OzvTunVrdu/ene11YWFhANmGI7LcPmdk+vTp6HQ6/vvvP0aNGoWXlxd+fn68/vrrKIpCZGQk/fv3x2g0EhAQwIcffpgj1vT0dKZNm0bt2rVxdnYmODiYF154gfT09Du2x6RJk/Dw8CAlJSXHc8OHDycgIACz2QyoPQM9e/bE19cXV1dXatSowbhx4+74/mXFDz/8wJEjR3jzzTdzfT48PJzw8HAef/zxbL1eTz75JIqiFMuQkRD5JT0jQtiZc+fOAVChQoVCv8dPP/1EYmIi//d//4dOp+O9995j4MCBnDlzBkdHR/7v//6PS5cusX79+hzDFHcydOhQGjRowDvvvMPq1auZNWsWPj4+fPnll3Tp0oV3332XhQsX8vzzz9O6dWvuu+8+ACwWC/369ePvv//m8ccfp0GDBhw+fJiPP/6Y//77j5UrV97xnmFhYaxevZrBgwdbz6ekpLBq1SrGjBmDwWAgJiaGHj164Ofnx0svvYS3tzfnzp1j+fLlhW7HojKZTFy9ejXH+fj4+Fyvze18bnx8fNDrb/4tmZiYyIsvvsgrr7xCQEBArq/Zv38/gLUXLktQUBBVqlSxPi+EFiQZEUJj8fHxXL16lbS0NP79919mzJiBs7NznhMQ8yMiIoKTJ09aE5p69erRv39//vzzTx588EHatWtH3bp1Wb9+fYGGI9q0acOXX34JwOOPP0716tV57rnnePvtt3nxxRcBtbciKCiIefPmWZORn376ib/++ostW7bQsWNH6/s1atSIJ554gn/++Yf27dvnes+OHTtSuXJllixZki0ZWb16NcnJyQwdOhSAf/75h+vXr7Nu3bpsv3BnzZqV789na+vWrcPPzy9f127fvp37778/X9eePXs2W4/YzJkzcXV15ZlnnsnzNVFRUQAEBgbmeC4wMJBLly7l695CFAdJRoTQWLdu3bI9rl69Oj/++CNVqlQp9HsOHTo0W89K1tDPmTNnCv2eoM5pyWIwGGjVqhUXLlxg/Pjx1vPe3t7Uq1cv271+/vlnGjRoQP369bP1FHTp0gWATZs25ZmM6HQ6Bg8ezJdffklSUpJ1MumSJUuoXLmyNbnx9vYG4Pfff6dp06Y4OjoW6bPaQtu2bXNNhg4ePMjzzz+f7VzTpk1Zv359vt731t6P//77j08++YRFixbh7Oyc52tSU1MBcr3GxcWFhISEfN1biOIgyYgQGgsLC6Nu3brEx8czb948tm7desdfKvlRtWrVbI+zEpPr16/b9H29vLxwcXHB19c3x/lr165ZH588eZJjx47l2UsQExNzx/sOHTqU2bNn89tvvzFixAiSkpJYs2aNdRgKoFOnTgwaNIgZM2bw8ccf07lzZwYMGMCIESOK3J6F5evrmyPZBHJdqVShQoVcr72bp59+mvbt2zNo0KA7Xufq6gqQ6xydtLQ06/NCaEGSESE01qZNG+uwwoABA+jYsSMjRozgxIkT1l4AnU6Hoig5Xps1cfN2BoMh1/O5vUdB5Pa++bmXxWKhcePGfPTRR7leGxwcfMf73nPPPVSvXp2lS5cyYsQIVq1aRWpqqnWIBrDW7di5cyerVq3izz//ZNy4cXz44Yfs3LnT7pfnZmRkEBsbm69r/fz8MBgMbNy4kbVr17J8+XLrXCOAzMxMUlNTOXfuHD4+PhiNRuvwTFRUVI72joqKok2bNjb7LEIUlCQjQtgRg8HA22+/zf3338+cOXN46aWXAPWv5tyGWM6fP1/oe926eqa41apVi4MHD9K1a9dC33fIkCF88sknJCQksGTJEqpXr84999yT47p77rmHe+65hzfffJOffvqJkSNHsnjx4mxDTPbon3/+KfCckYiICAAGDhyY45qLFy9So0YNPv74Y6ZMmUKzZs0AdcXRrYnHpUuXuHDhQra6KkKUNElGhLAznTt3pk2bNsyePZspU6bg4uJCrVq1WLNmDVeuXLEOdRw8eJDt27fftVchL+7u7gDExcVZ51sUlyFDhrBmzRq+/vrrHL/0UlNTsVgs1njyMnToUN577z2+++471q5dy9NPP53t+evXr+Pt7Z0t2cn6BXy35cP2oDBzRrp06cKKFStyPP/4449TrVo1Xn31VRo3bgxAw4YNqV+/Pl999RX/93//Z+3Rmjt3LjqdjocffthGn0SIgpNkRAg79L///Y/BgwezYMECnnjiCcaNG8dHH31Ez549GT9+PDExMXzxxRc0bNiw0BMPW7ZsCcDkyZPp2bMnBoOBYcOG2fJjWD3yyCMsXbqUJ554gk2bNtGhQwfMZjPHjx9n6dKl/PnnnzmWnN6uRYsW1K5dm1dffZX09PRsQzQA3333HZ9//jkPPfQQtWrVIjExka+//hqj0UifPn1s8jnOnTtHjRo1GD16NAsWLLDJe2YpzJyRqlWr5pjHAzBlyhQqVarEgAEDsp1///336devHz169GDYsGEcOXKEOXPm8Nhjj9GgQYOihC9EkUjRMyHs0MCBA6lVqxYffPABZrOZBg0a8P333xMfH8+zzz7Lb7/9xg8//ECLFi2KdI+nnnqKtWvX8sgjjzB8+HAbfoLs9Ho9K1eu5J133uHw4cM8//zzzJgxg927d/P0009Tt27dfL3P0KFDSUxMpHbt2jk+e6dOnWjVqhWLFy9m8uTJvPfee9SpU4eNGzdSo0YNm3yOpKQkIPflsaXBgw8+yPLly4mNjeWpp55i+fLlvPLKK9YCeEJoRacUdUabEEKUE59//jkvvPACp0+fplKlSlqHI0SZIT0jQgiRT5s2bWLy5MmSiAhhY9IzIoQQQghNSc+IEEIIITQlyYgQQgghNCXJiBBCCCE0JcmIEEIIITQlRc/uwmKxcOnSJTw9PUu0fLYQQghR2imKQmJiIkFBQej1efd/SDJyF5cuXSp0uW0hhBBCQGRkJFWqVMnzeUlG7sLT0xNQG9JoNOb7dSaTiXXr1tGjRw8cHR2LK7xyQ9rTtqQ9bUva07akPW1H67ZMSEggODjY+rs0L5KM3EXW0IzRaCxwMuLm5obRaJT/mWxA2tO2pD1tS9rTtqQ9bcde2vJu0xxkAqsQQgghNCXJiBBCCCE0JcmIEEIIITQlc0byEBYWRlhYGGaz+a7Xms1mTCZTtnMmkwkHBwfS0tLy9R7izrRqT4PBgIODgyzrFkKIYiTJSB5CQ0MJDQ0lISEBLy+vPK9LSkriwoUL3L7foKIoBAQEEBkZKb/IbEDL9nRzcyMwMBAnJ6cSva8QQpQXkowUgdls5sKFC7i5ueHn55ftl6TFYiEpKQkPD487FnoR+aNFeyqKQkZGBleuXOHs2bPUqVNHvpdCCFEMJBkpApPJhKIo+Pn54erqmu05i8VCRkYGLi4u8gvMBrRqT1dXVxwdHTl//rz1/kIIUZaYLQq7zsYSk5iGv6cLbWr4YNCXbA+0JCM2IMMwZZskk0KIsmrtkShmrAonKj7Nei7Qy4VpfUPo1SiwxOKQn7JCCCFEObT2SBQTf9yXLREBiI5PY+KP+1h7JKrEYpFkRAghhChnzBaFGavCUXJ5LuvcjFXhmC25XWF7kozYAbNFYcfpa/x64CI7Tl8rsW++VqpXr87s2bOtj3U6HStXrizSe44ZM4YBAwYU6T2EEKKsSzOZORAZx1trwnP0iNxKAaLi09h1NrZE4pI5IxrTYryuc+fONGvWLFtCALBgwQKmTJlCXFxcsdxXCCFEybmenMGhyFg2XtKx4efDHItO5PSVJAry925MYt4Jiy1JMpKHghQ9K6ys8brb/11kjdfNHdWiRCcQFVVGRobU4hBCiBKmKAoX41I5eimB8EsJN/4bzyXrH7kG4Ob8j4ruTgR5u3D4YsJd39vfs2RWEEoykof8Fj27laIopJrU5MVisZCaYcYhIzPX1Rhmi8K0347mOV6nA6b/Fk6H2r75WmLl6miw6aqeMWPGEBcXR8eOHfnwww/JyMhg2LBhzJ4927rzY/Xq1Rk/fjwnT55k5cqVDBw4kAULFvDLL78wdepUTp06RWBgIE899RTPPfdcvu8dGRnJc889x7p169Dr9dx77718/PHH+Pj4AGp9l//973/MmzcPg8HA+PHjcxSdE0KIsijTbOH0lWTCo+I5evFG4hGVQHyqKdfrgyu44qNLpkvzujQO9qZhkBf+ns5YFOj47kai49Ny/T2kAwK81GW+JUGSERtKNZkJmfqnTd5LAaIT0mg8fV2+rg+f2RM3J9t+Ozdt2kRgYCCbNm3i1KlTDB06lGbNmjFhwgTrNR988AFTp05l2rRpAOzdu5chQ4Ywffp0hg4dyj///MOTTz5JxYoVGTNmzF3vaTKZ6NmzJ+3atWPbtm04ODgwa9Ys+vTpw9atWwH48MMPWbBgAfPmzaNBgwZ8+OGHrFixgi5dutj08wshhJZSMjI5FpVIeJTa0xF+KYHj0YmkZ1pyXOug11GnkicNg4yEBBppGGSkQZARVwOsWbOGPp1rWv+QBDDoYFrfECb+uA8dZEtIsv6sndY3pMTqjUgyIvJUoUIF5syZg8FgoH79+jzwwANs2LAhWzLSpUuXbL0eI0eOpGvXrrz++usA1K1bl/DwcN5///18JSNLlizBYrHwzTffWHt65s+fj7e3N3///TcDBgxg9uzZvPzyywwcOBCAL774gj//tE0SKIQQWriWlE54lNrTkTXMcvZqcq7zO9ydDIRYkw4vQoKM1KnkgbODIce1t++bdqtejQKZO6pFjnmLARrUGZFkxIZcHQ2Ez+wJqMM0iQmJeBo9cx2m2XU2ljHzd9/1PReMbZ2vbjJXx5z/CIuqYcOGGAw33zcwMJDDhw9nu6ZVq1bZHh87doz+/ftnO9ehQwdmz56N2WzO9n65OXjwIKdOncLT0zPb+bS0NM6ePUt8fDxRUVG0bdvW+pyDgwOtWrWSoRohhN1TFIUL11M5eik+2xyP6ITcJ4r6eTpbezqyEo9qPm7obdRj0atRIN1DAqQCa1mi0+msQyUWi4VMJwNuTg65JiP31vEj0MvlruN199bxs/k/CqPRSHx8fI7zcXFx2ebH3NqlB+rns1iydw+6u7vbNLakpCRatmzJwoULs523WCw4Ozvb9F5CCFGcTGYLp2KSbkk64gmPSiAxLTPX66tXdLMmHCFBagJSEhNIDXod7WpVLPb73IkkIxox6HWajdfVq1ePdetyzkXZt28fdevWLdJ7N2jQgO3bt2c7t337durWrXvXXhGAFi1asGTJEvz9/TEajdbzFouFhIQEjEYjgYGB/Pvvv9x3330AZGZmsnfvXlq0aFGk2IUQorCS0zM5FqVOJj16MYGjUfH8F51Ehjnn/A5Hg466t87vqOxFg0AjHs7l91dy+f3kdkCr8bqJEycyZ84cJk+ezGOPPYazszOrV69m0aJFrFq1qkjv/dxzz9G6dWveeOMNhg4dyo4dO5gzZw6ff/55vl4/cuRI3n//ffr378/MmTOpUqUK58+f55dffuGJJ57AaDTy9NNP884771CnTh3q16/PRx99JLVRhBAl5kpiurWX4+ilBI5dSuDstWRyGyn2dHagwY1ejqw5HrX9PXBykJqjt5JkRGNajNfVrFmTrVu38uqrr9KtWzcyMjKoX78+P//8M7169SrSe7do0YKlS5cydepU3njjDQIDA5k5c2a+Jq8CuLm5sXXrVl588UUGDhxIYmIilStXpkuXLtZ5JM899xxRUVGMHj0avV7PuHHjeOihh3IdehJCiMKyWBQiYlNuJB0353jEJKbnen0lo7M6zHLLHI8qFVxtNr+jLJNkxA5oMV7XunXrXIdqsixYsCDHudsrtp47dy7X1w4aNIhBgwbl+d63v+72iacBAQF899132c5lDdOAOmF19uzZOeIRQojCysi08N/lrGW0N76iEkhKzzm/Q6eDGr7u1p6OhjfmePh6yLy2wpJkJA8lUYFVCCFEyUtMM3EsKjFbb8fJmERM5pzjLE4OeurdmN+RlXTUDzDiXo7ndxQHac08FKYCqxBCCPuhKMqN+R0J2eZ4nL+Wkuv1RheHG6tYbgy1VDZSy88DR4PM7yhukowIIYQo9SwWhXPXkq3l0bMKh11Nysj1+kAvlxs9HTfneFSp4GrTbTVE/kkyIoQQolRJzzTzX3SSuj/LjaJhx6ISSMnIOayu10FNP49sq1lCgoz4uMumnvZEkhEhhBB2Kz7VZJ1MevTG/iynYpLIzKVOurODnvqBxltWs6jzO1ydbF+hWtiWJCNCCCE0pygK0QlphF9K4FDkdTad0PP+8W1cuJ6a6/Vero7WhCOrt6OmrzsOMr+jVJJkRAghRIkyWxTOXk229nRkzfGITb51foceUBORyt6u1vLoWRVLg7xcZH5HGSLJiBBCiGKTZjJzIjrxxsRSdY7H8ahEUk0553cY9Dpq+bnTIMATXdwFBnZpQ5NgH7zdZH5HWSfJiBBCCJuIS8nI1tNx9FI8p68kY85lfoero4H6gVn7s6iFw+oFeOLiaMBkMrFmTSTtalbMsWGnKJskGdFSXCSkXMv7ebeK4B1ccvHcRqfTsWLFCgYMGKBZDEII+6MoCpfi0zh6Mf6WZbQJXIzLfX6Hj7uTdYglq45HDV/3Et+mXtgvSUa0EhcJc1pCZu57HADg4AyT9to8IRkzZoy13LqDgwM+Pj40adKE4cOHM2bMGPR6dQJYVFQUFSpUsOm98xIdHc2bb77J6tWruXjxIv7+/jRr1owpU6bQtWvXEolBCJFTptnCmavJhF+6ZX+WqATiUky5Xh/s45qjTHqAUeZ3iDuTZEQrKdfunIiA+nzKtWLpHenVqxfz58/HbDZz+fJl1q5dy9NPP82yZcv47bffcHBwICAgwOb3zc25c+fo0KED3t7evP/++zRu3BiTycSff/5JaGgox48fL5E4hCjvUjPMHItOuJF4qEnH8agE0jMtOa510Ouo7e9h7eloGGSkQaARL1cZVhEFJ8mILSkKmG6UGbZY1OMMA+hzWWqWmXt3Zq7XZSTf/TpHN3X3pnxydna2JhuVK1emRYsW3HPPPXTt2pUFCxbw2GOP5RimefHFF1mxYgUXLlwgICCAkSNHMnXq1GxjurNmzeLTTz8lNTWVoUOH4uvry9q1azlw4ECesTz55JPodDp27dqFu7u79XzDhg0ZN26c9XFkZCSvvvoqGzduRK/X06tXLz777DMqVaoEwPTp01m5ciXPPfccr7/+OtevX6d37958/fXXeHp68tVXXzF9+nQuXLhg7f0B6N+/PxUrVmTevHn5bj8hSrvY5IwcvR1nriSRy/QO3JwMNLildkdIoBd1Knng4ij1O4RtSDJiS6YUeCsIUBeledviPef1yt91r1wCJ/e7X3cHXbp0oWnTpixfvpzHHnssx/Oenp4sWLCAoKAgDh8+zIQJE/D09OSFF14AYOHChbz55pt8/vnndOjQgcWLF/Phhx9So0aNPO8ZGxvL2rVrefPNN7MlIlm8vb0BddfekSNH4uXlxZYtW8jMzCQ0NJShQ4eyefNm6/WnT59m5cqV/P7771y/fp0hQ4bwzjvv8OabbzJ48GCeeuopNm3aZB36ybr/mjVritByQtgvRVG4cD3VWh49a45HVHxartf7ejgRkjXEciMBqV7RHb3M7xDFSJKRPJTXXXvr16/PoUOHcn3utddesx5Xr16d559/nsWLF1uTkc8++4zx48czduxYAKZOncq6detISkrK836nTp1CURTq169/x7g2bNhAeHg4p0+fplq1agB8//33NGzYkN27d9O6dWtATVoWLFiAp6cnAI888ggbNmzgzTffpEKFCvTu3ZuffvrJmowsW7YMX19f7r///vw0jxB2zWS2cPpKEkcvZq9YmpCWmev11Sq6ZSuT3jDIiJ+ns8zvECVOkpE8FGrXXkc3tYcC9ZdiQmIiRk/PbEMCVtGH8tfrMW4tBDTJ371tQFGUPH8QLVmyhE8//ZTTp0+TlJREZmYmRqPR+vyJEyd48skns72mTZs2bNy4EYBt27bRu3dv63NffvkltWvXzldcx48fp3LlygQH35w/ExISgre3N8eOHbMmI9WrV7cmIgCBgYHExMRYH48cOZIJEybw+eef4+zszMKFCxk2bFju3yMh7FhyeibHb5nfcfRSAicuJ5KRy/wOR4OOOv6e1sJhDYO8qB/oidFF5ncI+yDJiC3pdDeHSiwWcDSrj3P7Refgmr/3dHAt8vBLQRw7dizXYZUdO3YwcuRIZsyYQc+ePfHy8rIOw+RXq1atss0dqVSpEiaTCZ1OZ7NJqrfXJNDpdFgsN3849+3bF0VRWL16Na1bt2bbtm18/PHHNrm3EMXlalK6dflsVm/H2WvJKLnM7/BwdrAuoc1KPur4e+LkIAm3sF+SjAirjRs3cvjwYZ555pkcz/3zzz9Uq1aNV1991Xru/Pnz2a6pV68eu3fv5tFHH7We2717t/XY1dU1156Qnj17EhYWxuTJk3PMG4mLi8Pb25v69etz8eJFIiMjrcM04eHhxMXFERISku/P6OLiwsCBA1m4cCGnTp2iXr16tGjRIt+vF6I4KYpCRGzKLb0d6hyPywm5r7zz93TO1tsREmikqo+bzO8QpY4kI1pxq6jWEblbnRG3isVy+/T0dKKjo7Mt7X377bd58MEHsyUTWerUqUNERASLFy+mdevWrF69mhUrVmS75qmnnmLChAm0atWK9u3bs2TJEg4dOkTNmjXvGEtYWBgdOnSgTZs2zJw5kyZNmpCZmcn69euZO3cux44do1u3boSEhPDII48we/ZsMjMzefLJJ+nUqROtWrUq0GcfOXIkDz74IEePHmXUqFEFeq0QtpKRaeFUTFK21SzHLiWQmJ77/I4avu7Z92cJ8sLP07mEoxaieEgyohXvYLWgmUYVWNeuXUtgYCAODg5UqFCBpk2b8umnnzJ69Ohc50/069ePZ555hkmTJpGens4DDzzA66+/zvTp063XjBw5kjNnzvD888+TlpbGkCFDGDNmDLt27bpjLDVr1mTfvn28+eabPPfcc0RFReHn50fLli2ZO3cuoA63LFy4kFdffZX77rsv29LegurSpQs+Pj6cOHGCESNGFPj1QhRUUnomx6ISslUsPXk5iQxzzvkdTgY9dQM8aBjoZU0+6gca8XCWH9ei7NIpSm6jjiJL1gTW+Pj4bJM1AdLS0jh79iw1atTAxcUl23MWi4WEhASMRmO5nhzZvXt3AgIC+OGHH4r0Plq2552+z6WVuvfHGvr06SN7f9jAre15Pc1snd+RNcfj3LWUXF/n6eKQrUR6wyAjtf09cDSU358ZIP8+bUnrtrzT79BbSaotbCYlJYUvvviCnj17YjAYWLRoEX/99Rfr16/XOjQhbM5iUTgfm8LRS/EcuRDHlmN63ji8matJGbleH2B0sZZHz5rjUaWCqyyjFQJJRoQN6XQ61qxZw5tvvklaWhr16tXjl19+oVu3blqHJkSRpGeaOXk5KVvF0mNRCSRn3FqHSA9koNNBTV93a+GwrDkeFT1kfocQeZFkRNiMq6srf/31l9ZhCFEkCWkmjt1SuyM8KoGTlxPJzKVOupODnvoBnjQI8MByLYLB3drRKLgCbk7yo1WIgpD/Y4QQ5ZKiKMQkpqs9HdaKpQlExOY+v8Po4pBtJ9qGQV7U8nPHwaC/MS5/nuZVvXF0lB+rQhSU/F9jAzIHuGyT76/9MFsUdp2NJSYxDX9PF9rU8MGQj5oaZovCuWvJN2t33Jhcei059/kdQV4uN/dnuTHUUtlb5ncIUVwkGSkCg0HdsTIjIwNX13xWVBWlTkqK+peyzOrX1tojUcxYFZ5tg7dALxem9Q2hV6NA67k0k5n/Lidmq1h6PDqRlIyc+0zpdVDLzyNbb0dIoJEK7k4l8pmEECpJRorAwcEBNzc3rly5gqOjY7YlpxaLhYyMDNLS0sr10l5b0aI9FUUhJSWFmJgYvL29rcmnKHlrj0Qx8cd93N5HFR2fxhM/7uPhFpWxKHD0UgKnriRhzmV+h4ujnvoB2Vez1KvkiauTfF+F0JokI0Wg0+kIDAzk7NmzOUqjK4pCamoqrq7StWsLWrant7c3AQEBJXpPcZPZojBjVXiORASwnlu272K2895ujtaEI2s1Sw1fdX6HEML+SDJSRE5OTtSpU4eMjOxjzyaTia1bt3LfffdJ974NaNWejo6O0iOisR2nr2YbmsnLwy2q0LNRAA2DjAR6ucgfAUKUIpKM5CEsLIywsDDM5pzjzLfT6/U5KnMaDAYyMzNxcXGRZMQGpD3Ln3NXk1m8O5KFO8/f/WLg3rq+dA+pVMxRCSGKgyQjeQgNDSU0NNRaylYIUfzSM838efQyi3dF8M/pO+zblAt/z7JRql+I8kiSESGE5k7FJLJoVyTL913geooJAJ0O7q3jx9CWVXhj9TEuJ6TlOm9EBwR4qct8hRClkyQjQghNpGaYWXM4isW7I9h97rr1fIDRhSGtqjC4VTDBPm4AGAw6Jv64Dx1kS0iyZoVM6xuSr3ojQgj7JMmIEKJEhV9KYPHuCFbsv0hiWiYABr2O++v5M7xNMJ3q+uVY9dKrUSBzR7XIUWckIJc6I0KI0keSESFEsUtOz2TVwUss2hXBwQvx1vNVKrgytFUwg1sFE+B15zkfvRoF0j0koFAVWIUQ9k2SESFEsVAUhUMX4lm8O4LfDlyy7nDroNfRo2ElhrWuSsfavujzk0zERULKNQxAO1cgq+BxdKT6X7eK4B1cHB9DCFECJBkRQthUQpqJX/df5KddkRyLSrCer+HrztDWwQxqUQU/T+f8v2FcJMxpCZnpeV/j4AyT9kpCIkQpJcmIEKLIFEVh7/nrLNoVyerDl0gzWQBwctDTu1EAw1pX5Z6aPoUrRJZy7c6JCKjPp1yTZESIUkqSESFEoV1PzuCXfRdYsjuSkzFJ1vN1K3kwrHVVHmpeWTadE0LclSQjQogCURSFHWeusXhXJGuPRJNhVntBXBz1PNgkiOFtgmlRtYKUYxdC5JskI0KIfLmSmM6yvRdYsjuCc9dSrOcbBhkZ1qYq/ZsFYXSRUv1CiIKTZEQIkSeLRWHbqass3hXB+vDLZFrUkmPuTgb6NavMiDZVaVxFtksQQhSNJCNCiByi49NYuieSJbsjuRiXaj3fLNib4W2CebBJEO7O8uNDCGEb8tNECAFAptnCphNXWLwrgk0nYrjRCYLRxYGHmldmWJuqNAg0ahvkncSEQ1AzraMQQhSCJCNClHORsSks3RPJ0j2RXE64uYS2TXUfhrUJpk/jQFwcDdoF6OyZv+tWTQEXb6jfpzijEUIUA0lGhCiHMjItHLim4+fv9rL99DWUG70gPu5ODGpRmaGtq1Lb30PbILP8t1b9r2tFGL4QHFyzP29KhU1vwrltsGQk9PkAWo8v+TiFEIUmyYgQ5cjZq8ks3h3Bsj0XuJZsAK4B0KF2RYa1rkqPhpVwdtCwF+R2qddhy3vqcbdpULVd7tc9shJ+nwL7f4DVz0LCRejyOsjyYiFKBUlGhCjj0kxm/jwazaJdEew8E2s9b3RUGNGuJsPbVqNaRXcNI7yDrR9AWhz4h0DzUXlfZ3CAfp+BVxXY/DZs+xASLkHfT8FBiq4JYe8kGRGijDp5OZFFuyJZvv8CcSkmQO0o6FTXj8Etgkg/s5e+3evg6GintUGun4NdX6nH3WeC/i49NjoddH4JjJVh1dNwcBEkRsOQ78HFjifeCiEkGRGiLEnNMPP7oUss3h3J3vPXrecDvVwY0iqYIa2DqeztislkYs057eLMlw0zwZwBNTtD7W75f12LR8AzAJaOhjObYEEfGPEzGAOLLVQhRNFIMiJEGXD0UjyLd0Wycv9FEtMzATDodXSt78/wNlW5r64fBn0pmj9xYS8c+QXQQfc3Cj73o053GPM7/DQEog/Dt91h5DLwr18s4QohikaSESFKqaT0TH47cInFuyM4dCHeej7Yx5VhrasyuGUV/I0uGkZYSIoC615Tj5sOh8AmhXufyi1g/HpY+DBcOwXzesDwxVCtve1iFULYhCQjQpQiiqJwIDKOxbsiWXXoEikZZgAcDTp6NAxgeOuqtK9VEX1p6gW53Yk1EPEPOLhAl9eK9l4+NWDcOlg0DC7sgu8HwMCvoOEAW0QqhLARSUbyEBYWRlhYGGazWetQhCA+1cTK/RdZtCuC49GJ1vM1fd0Z1iaYQS2qUNHDWcMIbcRsgvVT1eN2oeBVuejv6V4RRv8GvzwGx3+Hn8dAwlvQ7smiv7cQwiYkGclDaGgooaGhJCQk4OUlG4GJkqcoCrvPXWfxrghWH44iPdMCgJODngcaBzKsdTBtavigK0u1NPYuUIdU3HyhwxTbva+jq7qq5o8XYffX8OfLai2S7m+AXm+7+wghCkWSESHsTGxyBsv3XWDRrghOX0m2nq9XyZPhbYJ5qHkVvNzsdDluUaQlwOZ31OPOL9l+Oa7eAH3eV3tb/poOO+aotUge+gIcykCvkhClmCQjQtgBi0Vhx5lrLNoVwbqjl8kwq70gro4G+jYNZFibqjQP9i5bvSC32z4bUq5CxdrQckzx3EOng47PqLVIVj4JR5dDUgwM+xFcKxTPPYUQdyXJiBAaiklMY9neCyzZHcn5aynW840qGxnepir9mgbh6VIGe0FuF38RdoSpx91mgKGYP3OTIeDhD0segfN/w7zeMGqZWsFVCFHiJBkRooSZLQpbT15h8a4INhyLIdOi7lLn4exA/2ZBDG9TlUaVy9k8pY2zIDMNqraH+g+UzD1rdoaxf6hLf68cg2+6qbVIAhqVzP2FEFaSjAhRQi7FpbJ0TyQ/77nAxbhU6/kWVb0Z1qYqDzYJxM2pHP4vGXVILd0O0GNWyW5uF9DoZi2SK8dhfm8Y+iPU7FRyMQghJBkRojhlmi1sPB7D4t2RbD4Rw41OELxcHXmoeWWGt6lKvQBPbYPUkqLA+tcBBRoNgiotSz4G72AYtxYWj1KHbH4cBAPmQpPBJR+LEOWUJCNCFIPI2BQW747g5z0XiElMt55vW8OH4W2q0qtRAC6Od9n4rTw4tQHObAaDE3Sdql0crhXgkeWw4v/g6ApY/hgkXFCXF5flScNC2AlJRoSwkYxMC+vDL7N4dwTbTl61nq/o7sSgllUY2jqYWn4eGkZoZyzmG70iQJvHoUJ1TcPBwRkGzVNX2uyYoy7/jb8Ivd+9+47BQogikWREiCI6cyWJxbsj+WXvBa4lZ1jP31vHl2Gtq9I9pBJODlJYK4cDCyEmHFy84b7ntY5GpddDzzfVhOTPV9QCaYlRMOgbtXCaEKJYSDIiRCGkmcysPRLNT7si2HU21nre39OZIa2CGdo6mGAfNw0jtHMZybDxTfW40wv2V+Oj3ZNgDITl/6eWkP+un7rJnntFrSMTokySZESIAjgRnciiXRGs2H+R+FQTAHoddK7nz7DWwXSp74+DQXpB7uqfOZAUDd7VoPVjWkeTu4YPgUclWDRc3WRvXg916a9PDa0jE6LMkWRElGtmi8Kus7HEJKbh7+lCmxo+GG7b8TYlI5PfD0WxeFcE+yLirOcre7sypFUwQ1pXIdBLuvDzLfEybP9EPe423b5LsVdrD+PXqStsrp2Cb7vDyJ8hqLnWkQlRpkgyIsqttUeimLEqnKj4NOu5QC8XpvUNoVejQI5cjGfRrgh+O3CJxPRMABz0Oro28Gd4m6rcW8cvR+Ii8mHzW2BKhsqt1N4He+dX70YtksFw+TDMfwCGfAd1umsdmRBlhiQjolxaeySKiT/uQ7ntfHR8Gk/8uI9gH1ciY28WJqtW0Y2hrYN5uGUV/D1dSjbYsiTmGOz7Xj0u6QJnRWEMhLFrYOmjcGYT/DQU+n4CLR7ROjIhygRJRkS5Y7YozFgVniMRAaznImNTcdTr6NU4kOGtg7mnZkX00gtSdOungWKB+g9CtXZaR1MwLkYYsRRWTVYrxv42CRIuQqcXtY5MiFJPkhFRJimKQnyqiSuJ6epXUrr1OPxSQrahmbyEjWxBj4YBJRBtOXFmC5z8E/QO6mZ4pZGDk1qd1RgE2z6EzW+rCUnP97SOTIhSTZIRUaqkZpiJTjQRk5h2M9G4LdnIemwy59b3UYB7mcw2ilpgscC619TjVuPAt7a28RSFTqdWizVWhjXPw77vMcRfwuA+ROvIhCi1JBkRmss0W4hNziAmj6TiSmI6VxLSiIozkLZjQ4He29vNET8PZ/w8b3x5OJOSkclPuyLv+lqZG2JDh5dC9CFwNpadYY3W48EzEJaNQ3/6Lzq4nYakjlChstaRCVHqSDIiioWiKCSkZXIlMT17L8ZtycbVpHSuJWeg5KsTQ52z4eygx9/ofFuS4YKfpzP+njfPVfRwwtkhZxlvs0Vh04krRMen5TpvRAcEeKnLfIUNmFJhwxvqccdnwN1X23hsqX4fGL0KZdFQKqScRfmuD4z6pXT3/AihAUlGSrn81MmwpTSTOc9hkdsfZ2Ra8v2+eh343taD4XdLYlHB1UD43p0MeqAHFTxc0BVhFYZBr2Na3xAm/rgPHWRLSLLedVrfEFm2ays756qbzhmrwD0TtY7G9oJbkzl6DRnf9sU97pxai2TEUghurXVkQpQakoyUYnerk5FfZotCbHKGNYmISUjLM9lITMssUIxGF4dbkgqXHElG1mMfd6c7/vI3mUxcDQdPF4ciJSJZejUKZO6oFjnaL6AQ7SfuIPkq/P2xetz19bK7v4tPLbbVfZ0e175FH3UAvnsQHp4H9R/QOjIhSgVJRkqpO9XJmPjjPj4f2YIOdXyzJxR59GBcS0rHUoC5nk4OemsSceuwyO09Gr4ezrg42u9up70aBdI9JKBEe5bKnS3vQnoCBDSBxmV7gme6oxfmUb+iXzkBTq6DJaOgz/v2W+5eCDsiyUgplJ86GRMX7ivQe+p0UNE972GSWx8bbdQ7YQ8Meh3tasnmZ8Xi6inYM0897jFL3RG3rHNyh2GLYPWzsO87WP0cxF+ArtNKT4E3ITQgyUgptOtsbL7qZAB4OqvDJL63JBU5Jn96OuPj5iQbvAnb+msaWDKhTg+o2UnraEqOwUGtzupVBTa9qQ5TJVyCfnPUOiVCiBwkGSmFYhLzl4h88HATHm4VXMzRCJGL8zvg+O+g00P3mVpHU/J0Ouj0gloc7bfJcGgJJF2GIT+olVyFENnIn8KlUH7rX1Su4FbMkQiRC0W5WeCs+SPg30DbeLTUfBSMXAqO7nBmM8zvDQlRWkclhN2RZKQUalPDh0AvF/IagdahrqqROhlCE0dXwMU96i/g+1/ROhrt1e6mbrLn7g+Xj8A33SDmuNZRCWFXCp2MmEwmIiMjOXHiBLGxsbaMSdxFVp2M3EidDKGpzHTYcGPfmQ6TwVP29gEgqBk8th4q1lFrrszrAee2ax2VEHajQMlIYmIic+fOpVOnThiNRqpXr06DBg3w8/OjWrVqTJgwgd27dxdXrOIWWXUyDLflGwFeLswd1ULqZAht7P4Grp8DjwBo/5TW0diXCtVh/DoIbgtp8fDDALUXSQiR/wmsH330EW+++Sa1atWib9++vPLKKwQFBeHq6kpsbCxHjhxh27Zt9OjRg7Zt2/LZZ59Rp06d4oy93OtSv5K1Psgb/RtS299T6mQI7aRehy03dq+9/xV1mavIzs0HHv0VfnlMneD781h1Dkm7J7WOTAhN5TsZ2b17N1u3bqVhw4a5Pt+mTRvGjRvHF198wfz589m2bZskI8XsUlwqCuDiqGfUPdXKTO0PUUpt/QDS4sA/RJ24KXLn6ApDvoe1L8Gur+DPl9VaJOWlFosQuch3MrJo0aJ8Xefs7MwTTzxR6IBE/p2PTQGgqo+bJCJCW9fPqb9YQV3Kq7ffyrt2QW+A3u+BsbJaj2VnGCReggFfgKPsFi3Kn0Kl4fHx8blOWo2NjSUhIaHIQYn8ibAmI9IdLjS2YSaYM6BmZ3X1iLg7nQ46ToGB34DeUZ0/8uNAdbhLiHKmUMnIsGHDWLx4cY7zS5cuZdiwYUUOypYiIyPp3LkzISEhNGnShJ9//lnrkGwm4loyoPaMCKGZC3vhyC+ADrq/IWXPC6rJYBj1Czgb4fx2+LYnxEVqHZUQJapQyci///7L/fffn+N8586d+ffff4sclC05ODgwe/ZswsPDWbduHVOmTCE5OVnrsGwiq2ekWkVJRoRGbi1w1nQ4BDbRNp7SqmYnGPsHeAbB1RNqLZLow1pHJUSJKVQykp6eTmZmzq3kTSYTqampRQ7KlgIDA2nWrBkAAQEB+Pr6lpm6KOev3ZwzIoQmTqyBiH/AwQW6vKZ1NKVbQCO1FolfA0iKhnm94fQmraMSokQUKhlp06YNX331VY7zX3zxBS1btizQe23dupW+ffsSFBSETqdj5cqVOa4JCwujevXquLi40LZtW3bt2lWYsNm7dy9ms5ng4NK/X4uiKERmzRmRnhGhBbMJ1k9Vj9uFgldlbeMpC7yqwLi1UP1eyEiEhQ/DwSVaRyVEsSvURnmzZs2iW7duHDx4kK5duwKwYcMGdu/ezbp16wr0XsnJyTRt2pRx48YxcODAHM8vWbKEZ599li+++IK2bdsye/ZsevbsyYkTJ/D39wegWbNmufbUrFu3jqCgIECdXPvoo4/y9ddfF/Tj2qVryRkkZ5jR6aBKBVetwxHl0d4FcO0UuPlChylaR1N2uHqrc0hWTlTn4qx4HBIuQsdnZD6OKLMKlYx06NCBHTt28N5777F06VJcXV1p0qQJ3377bYFri/Tu3ZvevXvn+fxHH33EhAkTGDt2LKD2vqxevZp58+bx0ksvAXDgwIE73iM9PZ0BAwbw0ksv0b59+7tem56ebn2ctTrIZDJhMpny85Gs19/6X1s7E6PGFWB0Qa9YMJksxXIfe1Hc7VneFLk90xNx2PwOOsB87wtYDK5Qjr83tv/3qYd+c9F7BGDYGQYbZmC+HoGl5zvlYtm0/P9uO1q3ZX7vq1MURSnmWPJNp9OxYsUKBgwYAEBGRgZubm4sW7bMeg5g9OjRxMXF8euvv971PRVFYcSIEdSrV4/p06ff9frp06czY8aMHOd/+ukn3NzsZzhkzxUdP5wyUNuo8FRDs9bhiHKmwaWfqXt5FUnOAWxs8BaKrlB/14h8qBmzjkYXF6JDIcqrBXurT8Ssd9Y6LCHyJSUlhREjRhAfH4/RaMzzukL/BDl9+jTz58/nzJkzzJ49G39/f/744w+qVq2aZ5XWgrp69Spms5lKlSplO1+pUiWOH8/frpfbt29nyZIlNGnSxDof5YcffqBx48a5Xv/yyy/z7LPPWh8nJCQQHBxMjx497tiQtzOZTKxfv57u3bvj6OiY79fl15lNp+HUaZrVrkKfPrZpb3tW3O1Z3hSpPRMu4jD3cQBc+r5H73p9iiHC0qV4/332wXy8K4aVTxAYv48+V7/EPGQhuFW08X3sh/z/bjtat2V+a48VKhnZsmULvXv3pkOHDmzdupVZs2bh7+/PwYMH+fbbb1m2bFlh3rZYdOzYEYsl/0MYzs7OODvn/KvD0dGxUN/Iwr7ubi7Gq0NJ1X3dy9X/rMXVnuVVodpz67uQmQZV2+PQsJ/MY7hFsf37bDwQjIGwaBj6i3vQf9dHnVfiU8P297Ij8v+77WjVlvm9Z6FW07z00kvMmjWL9evX4+TkZD3fpUsXdu7cWZi3zJWvry8Gg4HLly9nO3/58mUCAsr31uQRWct6K0r1VVGCog7BwRtbQ/SYJYlISarWTt3116sqxJ6Gb7vDxX1aRyWETRQqGTl8+DAPPfRQjvP+/v5cvXq1yEFlcXJyomXLlmzYsMF6zmKxsGHDBtq1a2ez+5RGEbFSY0SUMGuBMwUaDYIqBVvGL2zAr55aiySgMSRfgQUPwsn1WkclRJEVKhnx9vYmKioqx/n9+/dTuXLBag0kJSVx4MAB64qYs2fPcuDAASIiIgB49tln+frrr/nuu+84duwYEydOJDk52bq6pjxKM5mJTkgDJBkRJejUX3B2CxicoOtUraMpvzwDYMwaqHk/mJLhp6Gw73utoxKiSAq9N82LL75IdHQ0Op0Oi8XC9u3bef7553n00UcL9F579uyhefPmNG/eHFCTj+bNmzN1qvrDbujQoXzwwQdMnTqVZs2aceDAAdauXZtjUquthYWFERISQuvWrYv1PoVx4braK+Lp7EAFNxlPFSXAnAnrXleP2zwOFaprGk6552KEkT+rJfgVM/z2FGx6W+29EqIUKtQE1rfeeovQ0FCCg4Mxm82EhIRgNpsZMWIEr71WsJLQnTt35m6riydNmsSkSZMKE2qhhYaGEhoaSkJCAl5eXiV677vJKgMf7OOGTsbsRUk4sBCuHAMXb7jvea2jEQAGRxgwF4yVYdsHsOUdSLgAD85WnxOiFClUMuLk5MTXX3/N1KlTOXz4MElJSTRv3rzABc9E4cgGeaJEpSfBprfU404vgGsFbeMRN+l00PV1tRT/6udg/4+QGA2DvwNnD62jEyLfilSpKDg42No7cvjwYa5fv06FCvKDqrjJBnmiRO2Yo27c5l0NWj+mdTQiN63GgWcg/DxWnduz4AF1GMfDX+vIhMiXQs0ZmTJlCt9++y0AZrOZTp060aJFC4KDg9m8ebMt4xO5kA3yRIlJjIbtn6rH3aaDg1T+tFv1esOY1WoxtKgD8E03uHpS66iEyJdCJSPLli2jadOmAKxatYozZ85w/PhxnnnmGV599VWbBihyOi/LekVJ2fSWumKjcitomHM5v7AzVVrC+PVQoQbEnYdve0Bk4XY5F6IkFSoZuXr1qrXo2Jo1axgyZAh169Zl3LhxHD582KYBiuwsFsXaM1LNRwqeiWIUcwz2/6AeS4Gz0qNiLTUhCWoBqbHwXV849rvWUQlxR4VKRipVqkR4eDhms5m1a9fSvXt3QN0Qx2AoGztK2uvS3pjEdNIzLRj0OgK9XbQOR5Rl66eBYoH6D6rVP0Xp4eEHY36Hur3U0v1LH4FdX2sdlRB5KlQyMnbsWIYMGUKjRo3Q6XR069YNgH///Zf69evbNECthIaGEh4ezu7du7UOJZuslTSVvV1xNBTq2yfE3Z3ZAif/BL0DdMu5i7UoBZzcYehCaDlGTSrXPK8mmAXYq0uIklKo1TTTp0+nUaNGREZGMnjwYOvGcgaDgZdeesmmAYrszl9LBmS+iChGFsuNsu+oqzR8a2sbjyg8g4Nad8RYBTbNgu2zIeES9A8DB6e7vVqIElPopb0PP/xwjnOjR48uUjDi7mQljSh2h5dC9CFwNkKnF7WORhSVTged/gfGIFg1Wf3+Jl2GoT+Ai30VdBTlV777+RcvXpzvN42MjGT79u2FCkjcmaykEcXKlAob3lCPOz4D7r7axiNsp/lIGLEEnDzUPYbm91F7SYSwA/lORubOnUuDBg147733OHbsWI7n4+PjWbNmDSNGjKBFixZcu3bNpoEKlbX6qiQjojjsnKuWFDdWgXsmah2NsLXa3dRaJB6V4PIR+Ka7umpKCI3lOxnZsmUL7777LuvXr6dRo0YYjUbq1KlD48aNqVKlChUrVmTcuHFUrVqVI0eO0K9fv+KMu9yKuGVfGiFsKvkq/P2xetz1dXB01TYeUTyCmqlLfyvWURPPb3vCub+1jkqUcwWaM9KvXz/69evH1atX+fvvvzl//jypqan4+vpad97V62WFR3FJSs/kWnIGIHNGRDHY8i6kJ0BAE2g8ROtoRHGqUA3Gr4NFwyDyX/jhIXjoC2g0SOvIRDlVqAmsvr6+DBgwwMah2JewsDDCwsIwm81ah2KV1StSwc0Ro4vsyils6Oop2DNPPe4xC+SPirLPzQce/RWWT4Bjq2DZOEiIgvYlu0O6EFDIOiPlgT3WGYmwrqSRyqvCxv6aBpZMqNMTanbSOhpRUhxd1R1+2z6hPl73Kqx9WWqRiBInyUgpEhErNUZEMTi/A47/Djo9dJ+pdTSipOkN0Osd6H5jFdXOz2HZGDClaRqWKF8kGSlFZCWNsDlFuVngrPkj4F82KiiLAtLpoMNkGPQt6B0h/Fd1HklKrNaRiXJCkpFS5Pw1qTEibEt37Fe4uAcc3eH+V7QOR2it8cPwyHJw9oKIf2BeL4iL0DoqUQ4UKRnJyMjgxIkTZGZm2ioecQdSfVXYkt5iwrDpRtd8h8ngGaBtQMI+1LgPxv0BnkFw9YRaiyTqkNZRiTKuUMlISkoK48ePx83NjYYNGxIRoWbOTz31FO+8845NAxSqTLOFC9dTAekZEbZR/eoGdHHnwSMA2j+ldTjCnlRqCI/9Bf4hkBStVms9vVHrqEQZVqhk5OWXX+bgwYNs3rwZF5eb29h369aNJUuW2Cw4cVNUfBqZFgUng55KRpe7v0CIO0mNo170r+rx/a+oO7wKcSuvyjD2D6h+L2QkwsLBcDD/24IIURCFSkZWrlzJnDlz6NixIzqdznq+YcOGnD592mbBiZuyhmiq+Lhi0OvucrUQd6bf/hFO5mQUvwbQfJTW4Qh75eoNo35Ri6FZMmHF/8G2D9WJz0LYUKGSkStXruDv75/jfHJycrbkpDQLCwsjJCSE1q1bax0KIBvkCRu6fg79nm8AMHeZpi7tFCIvDs4w8BtoP1l9vGEmrH4WzDJXUNhOoZKRVq1asXr1auvjrATkm2++oV27draJTGP2VvRMlvUKm9kwE505gxjPhii1umodjSgN9Hro8Qb0fg/QqdV6l4yCjBStIxNlRKHKwb/11lv07t2b8PBwMjMz+eSTTwgPD+eff/5hy5Ytto5RIBvkCRu5sBeO/IKCjqNBw+hYRnoyRQlp+3/qqqtfJsB/f8B3fWHEEnD31ToyUcoVqmekY8eOHDhwgMzMTBo3bsy6devw9/dnx44dtGzZ0tYxCm7pGZFS8KKwbilwpjQZSoJbNY0DEqVSSH8Y/Ru4eKs1ar7tDrFntI5KlHKF6hkBqFWrFl9//bUtYxF3cP6alIIXRXR8tVrIysEFc6dX4O8DWkckSquq98D49fDjIDUR+aY7jFwKleWPUVE4hU5GAGJiYoiJicFy26ZKTZo0KVJQIrv4FBMJaepkMUlGRKGYTepmeADtQsEYBBzQMiJR2vnVVWuRLHwYog/Bggdh8AKo21PryEQpVKhkZO/evYwePZpjx46h3LbES6fTYTabbRKcUJ2/sUGen6czrk6y8kEUwt4FcO0UuPlChylaRyPKCs9KMHYNLB0NpzfAouHw4MfQcrTWkYlSplDJyLhx46hbty7ffvstlSpVKjPLee2VrKQRRZKWAJtvVEbu/BK4GMFk0jYmUXY4e6qTWFc9DQcWwqrJkHAROr+sbsAnRD4UKhk5c+YMv/zyC7Vr17Z1PCIXskGeKJLtsyHlKlSsDS3HaB2NKIsMjtA/DIyVYet7sOVdiL8IfWerzwlxF4VaTdO1a1cOHjxo61hEHmSDPFFo8RdgR5h63H2m/GIQxUengy6vwoOzQaeHAz/ComGQnqR1ZKIUKFTPyDfffMPo0aM5cuQIjRo1wtEx+w+4fv362SQ4oZKeEVFoG9+EzDSo2h7q9dE6GlEetBoLnoGwbCyc+gsW9IERP6vzS4TIQ6GSkR07drB9+3b++OOPHM+VlQmsYWFhhIWF2cVnuVljRJIRUQBRh+DgIvW4xywZvxclp14vGP07/DQEog7Ct91g1HLwraN1ZMJOFWqY5qmnnmLUqFFERUVhsViyfdnDL29bsJdy8BmZFqLiUwGpvioKwFrgTFE3Oasi9R9ECavSEsavA5+aEBehFkeL+FfrqISdKlQycu3aNZ555hkqVZJut+J2MS4ViwKujgb8PJy1DkeUFqf+grNbwOAEXadqHY0oryrWUoujVW4Jqdfh+35wbJXWUQk7VKhkZODAgWzatMnWsYhc3Fp5VZZQi3wxZ8K619XjNo9DheqahiPKOXdfGL0K6vZS5y8teQT+/UrrqISdKdSckbp16/Lyyy/z999/07hx4xwTWCdPnmyT4ISspBGFcGAhXDmm7h1y3/NaRyMEOLnD0IWw5nnYOx/++B8kXICu09UdgUW5V+jVNB4eHmzZsiXHLr06nU6SERuSlTSiQNKTYNNb6nGnF8C1grbxCJHF4KBWZ/WqDBtnwfZPIOGSWp/EQYagy7tCJSNnz561dRwiD7KSRhTIjjmQFA3e1aD1Y1pHI0R2Oh3c9z+1ONpvT8HhnyExGoYtBBcvraMTGpL+MTuXlYzIShpxV4nRsP1T9bjbdPlrU9ivZiNgxFJw8oBz22Beb7Viqyi38t0z8uyzz/LGG2/g7u7Os88+e8drP/rooyIHJkBRFGsyIsM04q42vQWmZKjcCho+pHU0QtxZ7a4w9g9119+Yo+rS35HLoFKI1pEJDeQ7Gdm/fz+mG5tr7d+/v9gCEjddTcogJcOMTgdVKrhqHY6wZzHHYP8P6rEUOBOlRWATeOwv+HEQXP0P5vVSh2yq3KN1ZKKE5TsZuXUpryzrLRlZvSKBRhecHQwaRyPs2vqpoFig/oNQrZ3W0QiRf95VYdyfsHgEROyAHwei6zsHcNE6MlGCCjVnZNy4cSQmJuY4n5yczLhx44oclFBFxN6oMSKTV8WdnNkMJ9eB3gG6zdA6GiEKzs0HHlkJDfqBOQOHlY9T6/IfaiVhUS4UKhn57rvvSE1NzXE+NTWV77//vshBCVXENbWNZb6IyJPFcrPAWatx4Ftb23iEKCxHFxi8ANo+AUCjS4vQr38NLGVjixFxZwVa2puQkICiKCiKQmJiIi4uN7vRzGYza9aswd/f3+ZBasEeNso7f6NnpFpFd81iEHbu8FKIPgTORuj0otbRCFE0egP0egezRyCGDdMw7P4SkqJg4NdqsiLKrAIlI97e3uh0OnQ6HXXr1s3xvE6nY8aMstFNHBoaSmhoKAkJCXh5abP+PVKW9Yo7MaXChjfU447PqGW3hSjtdDos94Sy//RlWkZ+g+7Yb/DDFRj2kzqcI8qkAiUjmzZtQlEUunTpwi+//IKPz81/GE5OTlSrVo2goCCbB1leWQueSTIicrNzrlpS21gF7pmodTRC2NTFCvfQrGMPHH4erU5snddTXfpboZrWoYliUKBkpFOnToBagTU4OBi97ClQbNJMZi4npAMyZ0TkIvkqbLtRz6fr6+AoS79F2aNU6wjj1qq1SK7+d6MWyc8Q2FTr0ISNFaocfLVq1YiLi2PXrl3ExMRgsViyPf/oo4/aJLjyLGuIxtPFAW83x7tcLcqdLe9CRiIENIHGQ7SORojiUykExq+HhYPV4mjz+8CQ79WiaaLMKFQysmrVKkaOHElSUhJGozHb1vY6nU6SERu4dYM8nRSwEre6egr2zFOPe8ySXU9F2edVGcb9AYtHquXjfxoC/T5Ty8qLMqFQP8Wee+45xo0bR1JSEnFxcVy/ft36FRsba+sYyyXZIE/k6a9pYMmEOj2hZietoxGiZLh4wahfoPFg9d//yomw9X2pRVJGFCoZuXjxIpMnT8bNTX5RFhfZIE/k6vw/cPx30Omh+0ytoxGiZDk4w0NfQYcp6uONs+D3Z8CcqWlYougKlYz07NmTPXv22DoWcYubK2mkxoi4QVFuFjhr8Sj419c2HiG0oNdD9xnQ5wNAB3vnw5JRkJGsdWSiCAo1Z+SBBx7gf//7H+Hh4TRu3BhHx+wTLPv162eT4Mqz89dulIKXnhGR5egKuLgHHN2h8ytaRyOEttpMAM8A+OUx+O8P+K4vjFgq9XZKqUIlIxMmTABg5syc3cQ6nU7TqqVlgcWiEHldLQUvc0YEAJnp8Nd09bjDZPCspGk4QtiFBn3h0d9g0VC4uFdd+jvqF/CpqXVkooAKNUxjsVjy/JJEpOguJ6aRkWnBQa8j0EtKIAtg9zcQdx48AqD9U1pHI4T9qNpWXfrrXRViz8A33eHCXq2jEgUkawLtUMSNZb2VK7jiYJBvUbmXeh22vKce3/8KOMk8IiGy8a0D4/9Si6GlXIXvHoQTa7WOShRAoYZpchueudXUqVMLFYxQnY+9WWNECLZ+AGlx4B8CzUdpHY0Q9smzEoxZDUtHw+kNsHg4PPgxtByjdWQiHwqVjKxYsSLbY5PJxNmzZ3FwcKBWrVqSjBRRpCQjIsv1c7DrK/W4+0x1V1MhRO6cPWHEElg1BQ78CKuehviLao+iFI+0a4VKRvbv35/jXEJCAmPGjOGhhx4qclDl3a3VV0U5t2EmmDOgZmeo3U3raISwfwZH6D9Hrdq65V3Y+h7EX4B+n6rPCbtkswkJRqORGTNm8Prrr9vqLcutCOkZEaBOwjvyC6CD7m/IX3ZC5JdOp/aG9P0EdAY4+JNaQj49UevIRB5sOjsyPj6e+Ph4W76lZsLCwggJCaF169Ylfm9rMiLLessvRYF1r6nHTYdDYBNt4xGiNGo5BoYvAkc3OL1R3WQvMVrrqEQuCjVM8+mnn2Z7rCgKUVFR/PDDD/Tu3dsmgWktNDSU0NBQEhIS8PLyKrH7JqaZiE3OAKRnpFw7vhoi/gEHF+jymtbRCFF61e0JY36HhUMg+pC69HfUL+BXV+vIxC0KlYx8/PHH2R7r9Xr8/PwYPXo0L7/8sk0CK6+yekV83J3wdJHxzXLJbFI3wwNoF6qOfQshCq9yS3hsPfw4SK1FMq8HDF8MVe/ROjJxQ6GSkbNnz+b5XGpqaqGDETdX0sgGeeXY3gVw7RS4+d7cEEwIUTQ+NdXiaD8NVbdV+K4fDPoGQmT7Entgszkj6enpfPTRR9SoUcNWb1kuZa2kqSbJSPmUFg+b31aPO78ELkZt4xGiLHH3hdGroF4fMKfD0kfh3y+1jkpQwGQkPT2dl19+mVatWtG+fXtWrlwJwLx586hRowYff/wxzzzzTHHEWW7ISppy7u/ZkHINKtaWYk1CFAcnNxjyA7QaByjwxwvqbtgWi9aRlWsFGqaZOnUqX375Jd26deOff/5h8ODBjB07lp07d/LRRx8xePBgDAYpylQUspKmHIu/ADs/V4+7z5SaCEIUF4MDPPAReFVRa/n88ykkXIIBn4ODs9bRlUsFSkZ+/vlnvv/+e/r168eRI0do0qQJmZmZHDx4EJ3UQLAJ6RkpxzbOgsw0qNpe7UYWQhQfnQ7ufQ6MleHXUDiyDJIuw9AfwdVb6+jKnQIN01y4cIGWLVsC0KhRI5ydnXnmmWckEbGRTLOFi9fVCcDVpGekfIk6CAcXq8c9ZkmBMyFKStNhMPJncPKEc9tgfm+1hLwoUQVKRsxmM05OTtbHDg4OeHh42Dyo8ioqPo1Mi4KTg55Kni5ahyNKiqKoY9Yo0GgQVGmpdURClC+1usDYNeARADHh8E03uHxU66jKlQIN0yiKwpgxY3B2VsfU0tLSeOKJJ3B3z76l+fLly20XYTmStZImuIIrer38ZVxunPoLzm4BgxN0lU0mhdBEYJMbtUgehqsnYF4vGLYQatyndWTlQoGSkdGjR2d7PGqUbGduSzJfpBwyZ97oFQHaPA4VqmsajhDlmndVGLcWFo9UKyD/MBAe+gIaP6x1ZGVegZKR+fPnF1ccgpvJSLWK7ne5UpQZBxbClWPg4g33Pa91NEIINx94ZAWseBzCf4VfxkPCRWg/WeZyFSObbpQniiYiNhmQ6qvlRnoSbHpTPe70ArhW0DYeIYTK0QUeXgBtJ6qP10+FP14Ei1nTsMoySUbsiLVnRJKR8mHHHHUpoXc1aP2Y1tEIIW6l10Pvd6DnW+rjXV/Cz6PBJFueFAdJRuyEoijWCaxS8KwcSIyG7Z+ox92mS6ElIexVu1B4eL46wfzYKvh+AKTEah1VmSPJiJ2ITzWRmJYJQHAFSUbKvE1vgSkFKreChg9pHY0Q4k4aDVTnkbh4QeRO+LYHXD+vdVRliiQjdiKrV8Tf0xlXJympX6bFHIP9P6jHUuBMiNKhekcY9ycYq8C1k/Btd7VYobAJSUbsxM2VNNIrUuatnwqKBeo/CNXaaR2NECK//BuotUgqNVLne83vo9YJEkUmyYidyEpGZCVNGXdmM5xcB3oH6DZD62iEEAVlDFKrtdboBBlJ8NNQ2L9Q66hKPUlG7ETEtayVNFJjpMyyWG4WOGs1DnxraxuPEKJwXLxg5DJoPAQsmfDrk7DlfXVrB1EokozYifM3aoxUreiqcSSi2BxeCtGHwNkInV7UOhohRFE4OMFDX0LHZ9THm2bB71PUqsqiwCQZsRORseradSkFX0aZUmHDG+pxx2fA3VfbeIQQRafXq0vz+3wA6GDvAlgyEjKSNQ6s9JFkxA6kZ5q5FJ+VjMgwTZm0cy4kXFBn4t8zUetohBC21GYCDP0RHFzgv7Ww4EFIuqJ1VKWKJCN5CAsLIyQkhNatWxf7vS5eT0VRwM3JgK+HU7HfT5Sw5Kuw7SP1uOvr4ChDcUKUOQ0ehEd/U7d1uLRPXfp77bTWUZUakozkITQ0lPDwcHbv3l3s9zp/y269Oqk5UfZseRcyEiGgiTrhTQhRNlVtC+PXq1s8XD+rJiQX9mgdVakgyYgdiJRlvWXX1VOwZ5563GOWOsYshCi7fOuoCUlgM0i5pg7ZnPhD66jsnvxktAPnr8kGeWXWX9PUpX91ekLNTlpHI4QoCZ6VYMxqqN0NMlNh8Yibf5SIXEkyYgeyCp7JBnllzPl/4PjvoNND95laRyOEKEnOHjB8MTQfpVZc/v0ZdUWd1CLJlSQjdiCr4Jks6y1DFAXWvaYet3gU/OtrG48QouQZHKHfHOj8svp42wew8kkwm7SNyw5JMqIxRVFu9oxIMlJ2HF0OF/eCozt0fkXraIQQWtHpoPNL0O8z0Bng4E+wcDCkJ2odmV2RZERjV5LSSTWZ0emgSgVJRsqEzHT468a+Mx2eVsePhRDlW4tH1WEbRzc4swnm94bEaK2jshuSjGgsayVNkJcrTg7y7SgTdn0NcefBIwDaT9I6GiGEvajbQ53Y6u4H0Yfhm+5w5YTWUdkF+e2nsfMyX6RsSYmFre+rx11eBSepqCuEuEXlFurSX59aEB8B3/aA8zu0jkpzkoxoTOaLlDHbPoS0OPAPgWYjtY5GCGGPfGqoCUmV1urPi+/7Q/ivWkelKUlGNGZdSSPLeku/2LOw6yv1uPtM0Bu0jUcIYb/cK6rl4+s9AOZ0WDpa3cOqnJJkRGPSM1KGbJgJ5gyo2VktdiSEEHfi5AZDf4BW4wEF1r4Ef74KFovWkZU4SUY0lrUvTTXpGSndLuxRl/Oig+5vqMv5hBDibvQGeOBD6DpNfbxjDix/TF2VV45IMqKh1AwzVxLVf3DSM1KK3VrgrOlwCGyibTxCiNJFp4N7n4WHvgS9Axz5BX4YCKlxWkdWYiQZ0VDWEI3RxQFvNyeNoxGFdnw1ROwABxfo8prW0QghSqumw2DkMnDyhPN/w7xeEH9B66hKhCQjGpI9acoAswnWT1WP24WCV2Vt4xFClG617odxf4BnIFw5ptYiuXxU66iKnSQjGspKRqr5SC2KUmvvAog9DW6+0GGK1tEIIcqCgMbq0l+/+pB4Se0hObNF66iKlSQjGoq4lgxAsMwXKZ3S4mHz2+px55fAxahtPEKIssM7GMathWodID0BfhwEh37WOqpiI8mIhmRZbyn392xIuQYVa0PLMVpHI4Qoa1wrwKjl0PAhsJjUVTZ/z1YnzZcxkoxoSJb1lmLxF2Dn5+px95nqVuFCCGFrji4waB7cE6o+/msa/PECWMzaxmVjkoxoxGJRuBCbCkjPSKm0cRZkpkHV9lCvj9bRCCHKMr0eer0FPd8CdGql56WPgilV68hsRpIRjUQnpJFhtuCg1xHo5aJ1OKIgog7CwcXqcY9ZUuBMCFEy2oXC4PlgcILjv6t72qTEah2VTUgyopGs+SKVK7jiYJBvQ6mhKLDudUCBRoOgSkutIxJClCcNH4JHVoKLF0T+C992h+vntI6qyOS3oEasG+TJEE3pcuovOLtF/cuk61StoxFClEfVO8C4P8FYBa6dUmuRXNqvdVRFIsmIRmQlTSlkzrzRKwK0eRwqVNc0HCFEOebfAB77Cyo1guQYmP8AnPxL66gKTZIRjchKmlLowEK1IqKLN9z3vNbRCCHKO2MgjP0DanQCUzL8NAT2/6h1VIUiyYhGpGeklElPgk1vqsedXlDX/wshhNZcjOp+Nk2GgmKGX0Nh87ulrhaJJCMayaq+WlVKwZcOO+ZA0mV1aKb1Y1pHI4QQNzk4qTv+dnxGfbz5LVj1tDq0XEpIMqKBhDQT11NMgGySVyokRsP2T9TjrtPAwVnbeIQQ4nY6HXSbDn0+AJ0e9n0Hi0dARrLWkeWLJCMayFpJU9HdCQ9nB42jEXe16S0wpUDlVuqyOiGEsFdtJsDQH8HBFU7+ieHH/jiZErSO6q4kGdFA5I35IrJBXikQcwz2/6AeS4EzIURpUP8BGL0KXH3QRx3gvv9mqruL2zFJRjQgK2lKkfVTQbFA/QehWjutoxFCiPwJbg3j16N4V8M9IwaH7/rAhT1aR5UnSUY0ICtpSokzm+HkOtA7QLcZWkcjhBAF41ubzNF/cN2tBrqUa7DgQTi+RuuociXJSAkzWxQORcYBYMq0YLaUruVX5YbFAuteU49bjQPf2trGI4QQheHhz/baL2Op1Q0yU2HJSNj9rdZR5VDmk5G4uDhatWpFs2bNaNSoEV9//bVmsaw9EkXHdzdy5JI6meiLrWfo+O5G1h6J0iwmkYdDSyD6MDgbodOLWkcjhBCFZja4YB7yIzR/RB12Xv0sbJhpV7VIyvxSDk9PT7Zu3YqbmxvJyck0atSIgQMHUrFixRKNY+2RKCb+uI/bv/XR8WlM/HEfc0e1oFejwBKNSeTBlAob31CPOz4D7r7axiOEEEWld4B+n4FXFdj8Nmz7EK78Bx2eBoNj7q9xqwjewSUSXplPRgwGA25u6tyM9PR0FEVBKeFs0GxRmLEqPEciAqAAOmDGqnC6hwRg0MtqDc3t/BwSLqqbUN0zUetohBDCNnQ66PwSGCvDb5Ph+Cr1Ky8OzjBpb4kkJJoP02zdupW+ffsSFBSETqdj5cqVOa4JCwujevXquLi40LZtW3bt2lWge8TFxdG0aVOqVKnC//73P3x9S/Yv3V1nY4mKT8vzeQWIik9j19nYkgtK5C75Kmz7WD3u+jo4umobjxBC2FqLR6D3O3e/LjMdUq4VfzzYQc9IcnIyTZs2Zdy4cQwcODDH80uWLOHZZ5/liy++oG3btsyePZuePXty4sQJ/P39AWjWrBmZmTnL3q5bt46goCC8vb05ePAgly9fZuDAgTz88MNUqlQp13jS09NJT0+3Pk5IUOd3mEwmTCZTvj9X1rUmk4mouPxVwIuKS8ZkMub7HuXJre1ZnPQb38KQkYhSqTGZDR6CYr6fVkqqPcsLaU/bkva0nTzbMrAleQzOZH99ZmaRfg7m93uoU0p6zOIOdDodK1asYMCAAdZzbdu2pXXr1syZMwcAi8VCcHAwTz31FC+99FKB7/Hkk0/SpUsXHn744Vyfnz59OjNm5FzG+dNPP1mHewrqZLyOOeGGu143KcRMHS+7+XaUaa4ZV3HKTMp2zi39Kq3OzUGPhd3VJnLJR+qKCCHKJq+Uc3Q+MfWu122uN5N4t+qFvk9KSgojRowgPj4eozHvP7btOhnJyMjAzc2NZcuWZUtQRo8eTVxcHL/++utd3/Py5cu4ubnh6elJfHw8HTp0YNGiRTRu3DjX63PrGQkODubq1at3bMjbmUwm1q9fT/fu3dEbHOj84VYuJ6TnOm9EBwR4ObPp2ftkzkgebm1PR8f85PN3EH8Bh7lt0ZnT87xEMTiTOfFfdbJXGWTT9hTSnjYm7Wk7ebZl1EEc53W9++vHbYDApoW+f0JCAr6+vndNRjQfprmTq1evYjabcwypVKpUiePHj+frPc6fP8/jjz9unbj61FNP5ZmIADg7O+PsnHMjNEdHx0L9T5H1uun9GjLxx33oIFtCkpV6TOvbEBdnpwK/f3lT2O9DNhnxcIdEBEBnTscxIx4caxTtXnbOJu0prKQ9bUva03ZytKVD/n79Ozo4QBG+B/n9/tl1MmILbdq04cCBA1qHQa9Ggcwd1YIZq8KzTWYN8HJhWt8QWdYrhBCi3LLrZMTX1xeDwcDly5eznb98+TIBAQEaRVV4vRoF0j0kgF1nY4lJTMPf04U2NXxkaEYIIUS5ZtfJiJOTEy1btmTDhg3WOSMWi4UNGzYwadIkbYMrJINeR7taJVtwTQCJl+HSfvXrzBatoxFCCG25VVTriGTeYcjawVm9rgRonowkJSVx6tQp6+OzZ89y4MABfHx8qFq1Ks8++yyjR4+mVatWtGnThtmzZ5OcnMzYsWOLNa6wsDDCwsIwm83Feh9RDJKvwqUDN5OPS/sh8ZLWUQkhhP3wDlYLmt2pjkh5qsC6Z88e7r//fuvjZ599FlBXzCxYsIChQ4dy5coVpk6dSnR0NM2aNWPt2rV51gmxldDQUEJDQ0lISMDLy6tY7yWKIPX6bYnHAYiPyOVCHfjVh6Dm4O4H/3xSwoEKIYSd8Q4usWTjbjRPRjp37nzX8uyTJk0qtcMywnYczKnozv8Nlw/fTD6un8394op11MQj6yugMTh7qM9dOiDJiBBC2BHNkxEhcpWRDFGHrEmHw6V9PHDtFBzK5doKNbInHoFNwOUOvVl2NlYqhBDlnSQjQnumVIg+kn2Ox9UT6lbXN2StN1K8gtFlSzyagptPwe5nZ2OlQghR3kkyIkpWZjpcPpp9jkdMOCi5TBT2DLImHZmVGrP+yBW69R9mmyJIdjRWKoQQ5Z0kI6L4mE0Qcyx7j8flo2DJZeMkdz8IanHLcEsz8LxZS0Yxmcg4sabkYhdCCFFiJBnJgyztLSBzJlz9L3viEX0497Lrrj7Z53gENQdjEOik+JsQQpRHkozkQZb23oHFAtdO3ZZ4HAJTSs5rnb3UXo5bEw/vqpJ4CCGEsJJkRNyZokDsmexzPKIOQkZizmudPCCwWfbko0IN0OtLOGghhBCliSQj4iZFgbiI7D0eUQcgLT7ntQ6u6kqWW3s8KtaWxEMIIUSBSTJSWsVFFm1pqqJAwqXsicel/ZAam/Nag7NaNOzWxMO3Lhjkn48QQoiik98mpVFcJMxpefeiXZP23kxIbt0oLusrOSbn6/SOUKlh9sTDvwEYbLCcVgghhMiFJCOlUcq1OycioD7/98eQGJ33RnE6A/iHZJ/jUamhmsgIIYQQJUSSkbJsz7c3j3V68K13234tjcDRVbv4hBBCCCQZyVOZqDNSuzvU6pJzozghhBDCjkgykocyUWeky2vqEIwQQghhx2QdZmmUel3rCIQQQgibkWSktLl8FFb8n9ZRCCGEEDYjwzSlyX/rYNlYyEjSOhIhhBDCZqRnpDRQFNj5BSwaqiYiVVqrhcjuxMFZLXwmhBBC2DnpGbF3ZhP88QLsmac+bv4IPPARJF0uWgVWIYQQwk5IMmLPUuPg5zFwZhOggx5vQLtJ6o633sGSbAghhCgTJBmxV7Fn4KehcPU/cHSDQd9A/Qe0jkoIIYSwOUlG8qBp0bPz/8DikeqmdcbKMHyRukOuEEIIUQbJBNY8hIaGEh4ezu7du0v2xgd+gu/6qYlIUHOYsFESESGEEGWa9IzYC4sFNr4Bf3+kPg7pDwO+ACc3beMSQgghipkkI/YgIwVWPA7HVqmP730e7n8V9NJxJYQQouyTZKSkxEXmvhQ3+Sr8+bI6UVXvCP0+g2bDSz4+IYQQQiOSjJSEuEiY0xIy0+983aBvoWH/kolJCCGEsBMyDlASUq7dPREBqFCt+GMRQggh7IwkI0IIIYTQlCQjQgghhNCUJCNCCCGE0JQkI0IIIYTQlCQjeQgLCyMkJITWrVtrHYoQQghRpkkykgfNysELIYQQ5YwkIyXBrSI4ON/5Ggdn9TohhBCinJGiZyXBOxgm7c29AmsWt4rqdUIIIUQ5I8lISfEOlmRDCCGEyIUM0wghhBBCU5KMCCGEEEJTkowIIYQQQlOSjAghhBBCU5KMCCGEEEJTkowIIYQQQlOytPcuFEUBICEhoUCvM5lMpKSkkJCQgKOjY3GEVq5Ie9qWtKdtSXvalrSn7Wjdllm/O7N+l+ZFkpG7SExMBCA4WGqECCGEEIWRmJiIl5dXns/rlLulK+WcxWLh0qVLeHp6otPp8v26hIQEgoODiYyMxGg0FmOE5YO0p21Je9qWtKdtSXvajtZtqSgKiYmJBAUFodfnPTNEekbuQq/XU6VKlUK/3mg0yv9MNiTtaVvSnrYl7Wlb0p62o2Vb3qlHJItMYBVCCCGEpiQZEUIIIYSmJBkpJs7OzkybNg1nZ2etQykTpD1tS9rTtqQ9bUva03ZKS1vKBFYhhBBCaEp6RoQQQgihKUlGhBBCCKEpSUaEEEIIoSlJRoQQQgihKUlGiklYWBjVq1fHxcWFtm3bsmvXLq1Dsjtbt26lb9++BAUFodPpWLlyZbbnFUVh6tSpBAYG4urqSrdu3Th58mS2a2JjYxk5ciRGoxFvb2/Gjx9PUlJSCX4K+/H222/TunVrPD098ff3Z8CAAZw4cSLbNWlpaYSGhlKxYkU8PDwYNGgQly9fznZNREQEDzzwAG5ubvj7+/O///2PzMzMkvwodmHu3Lk0adLEWiyqXbt2/PHHH9bnpS0L75133kGn0zFlyhTrOWnP/Js+fTo6nS7bV/369a3Pl8q2VITNLV68WHFyclLmzZunHD16VJkwYYLi7e2tXL58WevQ7MqaNWuUV199VVm+fLkCKCtWrMj2/DvvvKN4eXkpK1euVA4ePKj069dPqVGjhpKammq9plevXkrTpk2VnTt3Ktu2bVNq166tDB8+vIQ/iX3o2bOnMn/+fOXIkSPKgQMHlD59+ihVq1ZVkpKSrNc88cQTSnBwsLJhwwZlz549yj333KO0b9/e+nxmZqbSqFEjpVu3bsr+/fuVNWvWKL6+vsrLL7+sxUfS1G+//aasXr1a+e+//5QTJ04or7zyiuLo6KgcOXJEURRpy8LatWuXUr16daVJkybK008/bT0v7Zl/06ZNUxo2bKhERUVZv65cuWJ9vjS2pSQjxaBNmzZKaGio9bHZbFaCgoKUt99+W8Oo7NvtyYjFYlECAgKU999/33ouLi5OcXZ2VhYtWqQoiqKEh4crgLJ7927rNX/88Yei0+mUixcvlljs9iomJkYBlC1btiiKorafo6Oj8vPPP1uvOXbsmAIoO3bsUBRFTRD1er0SHR1tvWbu3LmK0WhU0tPTS/YD2KEKFSoo33zzjbRlISUmJip16tRR1q9fr3Tq1MmajEh7Fsy0adOUpk2b5vpcaW1LGaaxsYyMDPbu3Uu3bt2s5/R6Pd26dWPHjh0aRla6nD17lujo6Gzt6OXlRdu2ba3tuGPHDry9vWnVqpX1mm7duqHX6/n3339LPGZ7Ex8fD4CPjw8Ae/fuxWQyZWvT+vXrU7Vq1Wxt2rhxYypVqmS9pmfPniQkJHD06NESjN6+mM1mFi9eTHJyMu3atZO2LKTQ0FAeeOCBbO0G8m+zME6ePElQUBA1a9Zk5MiRREREAKW3LWWjPBu7evUqZrM52zcZoFKlShw/flyjqEqf6OhogFzbMeu56Oho/P39sz3v4OCAj4+P9ZryymKxMGXKFDp06ECjRo0Atb2cnJzw9vbOdu3tbZpbm2c9V94cPnyYdu3akZaWhoeHBytWrCAkJIQDBw5IWxbQ4sWL2bdvH7t3787xnPzbLJi2bduyYMEC6tWrR1RUFDNmzODee+/lyJEjpbYtJRkRogwKDQ3lyJEj/P3331qHUqrVq1ePAwcOEB8fz7Jlyxg9ejRbtmzROqxSJzIykqeffpr169fj4uKidTilXu/eva3HTZo0oW3btlSrVo2lS5fi6uqqYWSFJ8M0Nubr64vBYMgxc/ny5csEBARoFFXpk9VWd2rHgIAAYmJisj2fmZlJbGxsuW7rSZMm8fvvv7Np0yaqVKliPR8QEEBGRgZxcXHZrr+9TXNr86znyhsnJydq165Ny5Ytefvtt2natCmffPKJtGUB7d27l5iYGFq0aIGDgwMODg5s2bKFTz/9FAcHBypVqiTtWQTe3t7UrVuXU6dOldp/m5KM2JiTkxMtW7Zkw4YN1nMWi4UNGzbQrl07DSMrXWrUqEFAQEC2dkxISODff/+1tmO7du2Ii4tj79691ms2btyIxWKhbdu2JR6z1hRFYdKkSaxYsYKNGzdSo0aNbM+3bNkSR0fHbG164sQJIiIisrXp4cOHsyV569evx2g0EhISUjIfxI5ZLBbS09OlLQuoa9euHD58mAMHDli/WrVqxciRI63H0p6Fl5SUxOnTpwkMDCy9/zY1mTZbxi1evFhxdnZWFixYoISHhyuPP/644u3tnW3mslBn1u/fv1/Zv3+/AigfffSRsn//fuX8+fOKoqhLe729vZVff/1VOXTokNK/f/9cl/Y2b95c+ffff5W///5bqVOnTrld2jtx4kTFy8tL2bx5c7YlfykpKdZrnnjiCaVq1arKxo0blT179ijt2rVT2rVrZ30+a8lfjx49lAMHDihr165V/Pz8yuXyyZdeeknZsmWLcvbsWeXQoUPKSy+9pOh0OmXdunWKokhbFtWtq2kURdqzIJ577jll8+bNytmzZ5Xt27cr3bp1U3x9fZWYmBhFUUpnW0oyUkw+++wzpWrVqoqTk5PSpk0bZefOnVqHZHc2bdqkADm+Ro8erSiKurz39ddfVypVqqQ4OzsrXbt2VU6cOJHtPa5du6YMHz5c8fDwUIxGozJ27FglMTFRg0+jvdzaElDmz59vvSY1NVV58sknlQoVKihubm7KQw89pERFRWV7n3Pnzim9e/dWXF1dFV9fX+W5555TTCZTCX8a7Y0bN06pVq2a4uTkpPj5+Sldu3a1JiKKIm1ZVLcnI9Ke+Td06FAlMDBQcXJyUipXrqwMHTpUOXXqlPX50tiWOkVRFG36ZIQQQgghZM6IEEIIITQmyYgQQgghNCXJiBBCCCE0JcmIEEIIITQlyYgQQgghNCXJiBBCCCE0JcmIEEIIITQlyYgQQgghNCXJiBAiT2PGjGHAgAFah1EqvP766zz++OP5vj48PJwqVaqQnJxcjFEJUTpIMiJEOaXT6e74NX36dD755BMWLFigSXxff/01TZs2xcPDA29vb5o3b87bb79tfd6eEqXo6Gg++eQTXn31VSB/bRsSEsI999zDRx99pHH0QmjPQesAhBDaiIqKsh4vWbKEqVOncuLECes5Dw8PPDw8tAiNefPmMWXKFD799FM6depEeno6hw4d4siRI5rEczfffPMN7du3p1q1akD+2hZg7NixTJgwgZdffhkHB/lxLMoxzXbFEULYjfnz5yteXl45zo8ePVrp37+/9XGnTp2USZMmKU8//bTi7e2t+Pv7K1999ZWSlJSkjBkzRvHw8FBq1aqlrFmzJtv7HD58WOnVq5fi7u6u+Pv7K6NGjVKuXLmSZzz9+/dXxowZk+fz06ZNy7Eh4KZNmxRFUZSIiAhl8ODBipeXl1KhQgWlX79+ytmzZ3N8punTpyu+vr6Kp6en8n//939Kenq69Zqff/5ZadSokeLi4qL4+PgoXbt2VZKSkvKMp2HDhsqcOXNyfS6vtlUURUlPT1ecnZ2Vv/76K8/3FqI8kGEaIUSBfPfdd/j6+rJr1y6eeuopJk6cyODBg2nfvj379u2jR48ePPLII6SkpAAQFxdHly5daN68OXv27GHt2rVcvnyZIUOG5HmPgIAAdu7cyfnz53N9/vnnn2fIkCH06tWLqKgooqKiaN++PSaTiZ49e+Lp6cm2bdvYvn07Hh4e9OrVi4yMDOvrN2zYwLFjx9i8eTOLFi1i+fLlzJgxA1B7NYYPH864ceOs1wwcOBAljz1FY2NjCQ8Pp1WrVgVuSycnJ5o1a8a2bdsK/FohyhStsyEhhPYK0jPSsWNH6+PMzEzF3d1deeSRR6znoqKiFEDZsWOHoiiK8sYbbyg9evTI9r6RkZEKoJw4cSLXeC5duqTcc889CqDUrVtXGT16tLJkyRLFbDbnGZuiKMoPP/yg1KtXT7FYLNZz6enpiqurq/Lnn39aX+fj46MkJydbr5k7d67i4eGhmM1mZe/evQqgnDt3Lo/Wym7//v0KoEREROT6/J16RhRFUR566KE79gIJUR5Iz4gQokCaNGliPTYYDFSsWJHGjRtbz1WqVAmAmJgYAA4ePMimTZusc1A8PDyoX78+AKdPn871HoGBgezYsYPDhw/z9NNPk5mZyejRo+nVqxcWiyXP2A4ePMipU6fw9PS03svHx4e0tLRs92ratClubm7Wx+3atSMpKYnIyEiaNm1K165dady4MYMHD+brr7/m+vXred4zNTUVABcXlzyvuRNXV1drL5IQ5ZXMmBJCFIijo2O2xzqdLts5nU4HYE0akpKS6Nu3L++++26O9woMDLzjvRo1akSjRo148skneeKJJ7j33nvZsmUL999/f67XJyUl0bJlSxYuXJjjOT8/vzt/sBsMBgPr16/nn3/+Yd26dXz22We8+uqr/Pvvv9SoUSPH9b6+vgBcv3493/e4VWxsLLVq1Srw64QoS6RnRAhRrFq0aMHRo0epXr06tWvXzvbl7u6e7/cJCQkBsNblcHJywmw257jXyZMn8ff3z3EvLy8v63UHDx609mgA7Ny5Ew8PD4KDgwE1oerQoQMzZsxg//79ODk5sWLFilzjqlWrFkajkfDw8Hx/llsdOXKE5s2bF+q1QpQVkowIIYpVaGgosbGxDB8+nN27d3P69Gn+/PNPxo4dmyOZyDJx4kTeeOMNtm/fzvnz59m5cyePPvoofn5+tGvXDoDq1atz6NAhTpw4wdWrVzGZTIwcORJfX1/69+/Ptm3bOHv2LJs3b2by5MlcuHDB+v4ZGRmMHz+e8PBw1qxZw7Rp05g0aRJ6vZ5///2Xt956iz179hAREcHy5cu5cuUKDRo0yDVWvV5Pt27d+PvvvwvcNufOnePixYt069atwK8VoiyRZEQIUayCgoLYvn07ZrOZHj160LhxY6ZMmYK3tzd6fe4/grp168bOnTsZPHgwdevWZdCgQbi4uLBhwwYqVqwIwIQJE6hXrx6tWrXCz8+P7du34+bmxtatW6latSoDBw6kQYMGjB8/nrS0NIxGo/X9u3btSp06dbjvvvsYOnQo/fr1Y/r06QAYjUa2bt1Knz59qFu3Lq+99hoffvghvXv3zvMzPvbYYyxevPiO81lys2jRInr06GGtTyJEeaVTlDzWqwkhRBk0ZswY4uLiWLlypc3eU1EU2rZtyzPPPMPw4cPz9ZqMjAzq1KnDTz/9RIcOHWwWixClkfSMCCFEEel0Or766isyMzPz/ZqIiAheeeUVSUSEQFbTCCGETTRr1oxmzZrl+/qsibVCCBmmEUIIIYTGZJhGCCGEEJqSZEQIIYQQmpJkRAghhBCakmRECCGEEJqSZEQIIYQQmpJkRAghhBCakmRECCGEEJqSZEQIIYQQmvp/1piMvQhqM04AAAAASUVORK5CYII=\n",
         "text/plain": "<Figure size 600x400 with 1 Axes>"
        },
        "metadata": {},
        "output_type": "display_data"
       }
      ]
     }
    },
    "093496edd5da4454ad4a455eb5d9f194": {
     "model_module": "@jupyter-widgets/output",
     "model_module_version": "1.0.0",
     "model_name": "OutputModel",
     "state": {
      "_dom_classes": [],
      "_model_module": "@jupyter-widgets/output",
      "_model_module_version": "1.0.0",
      "_model_name": "OutputModel",
      "_view_count": null,
      "_view_module": "@jupyter-widgets/output",
      "_view_module_version": "1.0.0",
      "_view_name": "OutputView",
      "layout": "IPY_MODEL_3643484842d44388931460ef94f02e6e",
      "msg_id": "",
      "outputs": [
       {
        "data": {
         "image/png": "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\n",
         "text/plain": "<Figure size 600x400 with 1 Axes>"
        },
        "metadata": {},
        "output_type": "display_data"
       }
      ]
     }
    },
    "1bc1ff9def86474b996892892fc154fa": {
     "model_module": "@jupyter-widgets/controls",
     "model_module_version": "1.5.0",
     "model_name": "VBoxModel",
     "state": {
      "_dom_classes": [
       "widget-interact"
      ],
      "_model_module": "@jupyter-widgets/controls",
      "_model_module_version": "1.5.0",
      "_model_name": "VBoxModel",
      "_view_count": null,
      "_view_module": "@jupyter-widgets/controls",
      "_view_module_version": "1.5.0",
      "_view_name": "VBoxView",
      "box_style": "",
      "children": [
       "IPY_MODEL_31517fb499da41d88714803f2efe9d39",
       "IPY_MODEL_05c884319fbe4e389897085b74e19034"
      ],
      "layout": "IPY_MODEL_fda49db1f0c143e694d718a0909614af"
     }
    },
    "31517fb499da41d88714803f2efe9d39": {
     "model_module": "@jupyter-widgets/controls",
     "model_module_version": "1.5.0",
     "model_name": "IntSliderModel",
     "state": {
      "_dom_classes": [],
      "_model_module": "@jupyter-widgets/controls",
      "_model_module_version": "1.5.0",
      "_model_name": "IntSliderModel",
      "_view_count": null,
      "_view_module": "@jupyter-widgets/controls",
      "_view_module_version": "1.5.0",
      "_view_name": "IntSliderView",
      "continuous_update": true,
      "description": "H",
      "description_tooltip": null,
      "disabled": false,
      "layout": "IPY_MODEL_3f83a802b7ae4401a39706d765429ec1",
      "max": 40,
      "min": 10,
      "orientation": "horizontal",
      "readout": true,
      "readout_format": "d",
      "step": 10,
      "style": "IPY_MODEL_4b9cfceee3f14546929a960ca1fd5593",
      "value": 40
     }
    },
    "3643484842d44388931460ef94f02e6e": {
     "model_module": "@jupyter-widgets/base",
     "model_module_version": "1.2.0",
     "model_name": "LayoutModel",
     "state": {
      "_model_module": "@jupyter-widgets/base",
      "_model_module_version": "1.2.0",
      "_model_name": "LayoutModel",
      "_view_count": null,
      "_view_module": "@jupyter-widgets/base",
      "_view_module_version": "1.2.0",
      "_view_name": "LayoutView",
      "align_content": null,
      "align_items": null,
      "align_self": null,
      "border": null,
      "bottom": null,
      "display": null,
      "flex": null,
      "flex_flow": null,
      "grid_area": null,
      "grid_auto_columns": null,
      "grid_auto_flow": null,
      "grid_auto_rows": null,
      "grid_column": null,
      "grid_gap": null,
      "grid_row": null,
      "grid_template_areas": null,
      "grid_template_columns": null,
      "grid_template_rows": null,
      "height": null,
      "justify_content": null,
      "justify_items": null,
      "left": null,
      "margin": null,
      "max_height": null,
      "max_width": null,
      "min_height": null,
      "min_width": null,
      "object_fit": null,
      "object_position": null,
      "order": null,
      "overflow": null,
      "overflow_x": null,
      "overflow_y": null,
      "padding": null,
      "right": null,
      "top": null,
      "visibility": null,
      "width": null
     }
    },
    "3f83a802b7ae4401a39706d765429ec1": {
     "model_module": "@jupyter-widgets/base",
     "model_module_version": "1.2.0",
     "model_name": "LayoutModel",
     "state": {
      "_model_module": "@jupyter-widgets/base",
      "_model_module_version": "1.2.0",
      "_model_name": "LayoutModel",
      "_view_count": null,
      "_view_module": "@jupyter-widgets/base",
      "_view_module_version": "1.2.0",
      "_view_name": "LayoutView",
      "align_content": null,
      "align_items": null,
      "align_self": null,
      "border": null,
      "bottom": null,
      "display": null,
      "flex": null,
      "flex_flow": null,
      "grid_area": null,
      "grid_auto_columns": null,
      "grid_auto_flow": null,
      "grid_auto_rows": null,
      "grid_column": null,
      "grid_gap": null,
      "grid_row": null,
      "grid_template_areas": null,
      "grid_template_columns": null,
      "grid_template_rows": null,
      "height": null,
      "justify_content": null,
      "justify_items": null,
      "left": null,
      "margin": null,
      "max_height": null,
      "max_width": null,
      "min_height": null,
      "min_width": null,
      "object_fit": null,
      "object_position": null,
      "order": null,
      "overflow": null,
      "overflow_x": null,
      "overflow_y": null,
      "padding": null,
      "right": null,
      "top": null,
      "visibility": null,
      "width": null
     }
    },
    "4b9cfceee3f14546929a960ca1fd5593": {
     "model_module": "@jupyter-widgets/controls",
     "model_module_version": "1.5.0",
     "model_name": "SliderStyleModel",
     "state": {
      "_model_module": "@jupyter-widgets/controls",
      "_model_module_version": "1.5.0",
      "_model_name": "SliderStyleModel",
      "_view_count": null,
      "_view_module": "@jupyter-widgets/base",
      "_view_module_version": "1.2.0",
      "_view_name": "StyleView",
      "description_width": "",
      "handle_color": null
     }
    },
    "6c1a347daf3e45fc83b596fa3e251f2f": {
     "model_module": "@jupyter-widgets/controls",
     "model_module_version": "1.5.0",
     "model_name": "IntSliderModel",
     "state": {
      "_dom_classes": [],
      "_model_module": "@jupyter-widgets/controls",
      "_model_module_version": "1.5.0",
      "_model_name": "IntSliderModel",
      "_view_count": null,
      "_view_module": "@jupyter-widgets/controls",
      "_view_module_version": "1.5.0",
      "_view_name": "IntSliderView",
      "continuous_update": true,
      "description": "H",
      "description_tooltip": null,
      "disabled": false,
      "layout": "IPY_MODEL_a5f03c2234cc49ce8a420e2ea1117115",
      "max": 40,
      "min": 10,
      "orientation": "horizontal",
      "readout": true,
      "readout_format": "d",
      "step": 10,
      "style": "IPY_MODEL_9acf072c54784e66b0673ab1609c344a",
      "value": 40
     }
    },
    "70e86ced0c3e4832a972cadbbf5f49b2": {
     "model_module": "@jupyter-widgets/controls",
     "model_module_version": "1.5.0",
     "model_name": "VBoxModel",
     "state": {
      "_dom_classes": [
       "widget-interact"
      ],
      "_model_module": "@jupyter-widgets/controls",
      "_model_module_version": "1.5.0",
      "_model_name": "VBoxModel",
      "_view_count": null,
      "_view_module": "@jupyter-widgets/controls",
      "_view_module_version": "1.5.0",
      "_view_name": "VBoxView",
      "box_style": "",
      "children": [
       "IPY_MODEL_6c1a347daf3e45fc83b596fa3e251f2f",
       "IPY_MODEL_093496edd5da4454ad4a455eb5d9f194"
      ],
      "layout": "IPY_MODEL_8447bf7681904ff88b92881fc5624256"
     }
    },
    "8447bf7681904ff88b92881fc5624256": {
     "model_module": "@jupyter-widgets/base",
     "model_module_version": "1.2.0",
     "model_name": "LayoutModel",
     "state": {
      "_model_module": "@jupyter-widgets/base",
      "_model_module_version": "1.2.0",
      "_model_name": "LayoutModel",
      "_view_count": null,
      "_view_module": "@jupyter-widgets/base",
      "_view_module_version": "1.2.0",
      "_view_name": "LayoutView",
      "align_content": null,
      "align_items": null,
      "align_self": null,
      "border": null,
      "bottom": null,
      "display": null,
      "flex": null,
      "flex_flow": null,
      "grid_area": null,
      "grid_auto_columns": null,
      "grid_auto_flow": null,
      "grid_auto_rows": null,
      "grid_column": null,
      "grid_gap": null,
      "grid_row": null,
      "grid_template_areas": null,
      "grid_template_columns": null,
      "grid_template_rows": null,
      "height": null,
      "justify_content": null,
      "justify_items": null,
      "left": null,
      "margin": null,
      "max_height": null,
      "max_width": null,
      "min_height": null,
      "min_width": null,
      "object_fit": null,
      "object_position": null,
      "order": null,
      "overflow": null,
      "overflow_x": null,
      "overflow_y": null,
      "padding": null,
      "right": null,
      "top": null,
      "visibility": null,
      "width": null
     }
    },
    "9acf072c54784e66b0673ab1609c344a": {
     "model_module": "@jupyter-widgets/controls",
     "model_module_version": "1.5.0",
     "model_name": "SliderStyleModel",
     "state": {
      "_model_module": "@jupyter-widgets/controls",
      "_model_module_version": "1.5.0",
      "_model_name": "SliderStyleModel",
      "_view_count": null,
      "_view_module": "@jupyter-widgets/base",
      "_view_module_version": "1.2.0",
      "_view_name": "StyleView",
      "description_width": "",
      "handle_color": null
     }
    },
    "a5f03c2234cc49ce8a420e2ea1117115": {
     "model_module": "@jupyter-widgets/base",
     "model_module_version": "1.2.0",
     "model_name": "LayoutModel",
     "state": {
      "_model_module": "@jupyter-widgets/base",
      "_model_module_version": "1.2.0",
      "_model_name": "LayoutModel",
      "_view_count": null,
      "_view_module": "@jupyter-widgets/base",
      "_view_module_version": "1.2.0",
      "_view_name": "LayoutView",
      "align_content": null,
      "align_items": null,
      "align_self": null,
      "border": null,
      "bottom": null,
      "display": null,
      "flex": null,
      "flex_flow": null,
      "grid_area": null,
      "grid_auto_columns": null,
      "grid_auto_flow": null,
      "grid_auto_rows": null,
      "grid_column": null,
      "grid_gap": null,
      "grid_row": null,
      "grid_template_areas": null,
      "grid_template_columns": null,
      "grid_template_rows": null,
      "height": null,
      "justify_content": null,
      "justify_items": null,
      "left": null,
      "margin": null,
      "max_height": null,
      "max_width": null,
      "min_height": null,
      "min_width": null,
      "object_fit": null,
      "object_position": null,
      "order": null,
      "overflow": null,
      "overflow_x": null,
      "overflow_y": null,
      "padding": null,
      "right": null,
      "top": null,
      "visibility": null,
      "width": null
     }
    },
    "b868008db13d49409436152b8ce7a845": {
     "model_module": "@jupyter-widgets/base",
     "model_module_version": "1.2.0",
     "model_name": "LayoutModel",
     "state": {
      "_model_module": "@jupyter-widgets/base",
      "_model_module_version": "1.2.0",
      "_model_name": "LayoutModel",
      "_view_count": null,
      "_view_module": "@jupyter-widgets/base",
      "_view_module_version": "1.2.0",
      "_view_name": "LayoutView",
      "align_content": null,
      "align_items": null,
      "align_self": null,
      "border": null,
      "bottom": null,
      "display": null,
      "flex": null,
      "flex_flow": null,
      "grid_area": null,
      "grid_auto_columns": null,
      "grid_auto_flow": null,
      "grid_auto_rows": null,
      "grid_column": null,
      "grid_gap": null,
      "grid_row": null,
      "grid_template_areas": null,
      "grid_template_columns": null,
      "grid_template_rows": null,
      "height": null,
      "justify_content": null,
      "justify_items": null,
      "left": null,
      "margin": null,
      "max_height": null,
      "max_width": null,
      "min_height": null,
      "min_width": null,
      "object_fit": null,
      "object_position": null,
      "order": null,
      "overflow": null,
      "overflow_x": null,
      "overflow_y": null,
      "padding": null,
      "right": null,
      "top": null,
      "visibility": null,
      "width": null
     }
    },
    "fda49db1f0c143e694d718a0909614af": {
     "model_module": "@jupyter-widgets/base",
     "model_module_version": "1.2.0",
     "model_name": "LayoutModel",
     "state": {
      "_model_module": "@jupyter-widgets/base",
      "_model_module_version": "1.2.0",
      "_model_name": "LayoutModel",
      "_view_count": null,
      "_view_module": "@jupyter-widgets/base",
      "_view_module_version": "1.2.0",
      "_view_name": "LayoutView",
      "align_content": null,
      "align_items": null,
      "align_self": null,
      "border": null,
      "bottom": null,
      "display": null,
      "flex": null,
      "flex_flow": null,
      "grid_area": null,
      "grid_auto_columns": null,
      "grid_auto_flow": null,
      "grid_auto_rows": null,
      "grid_column": null,
      "grid_gap": null,
      "grid_row": null,
      "grid_template_areas": null,
      "grid_template_columns": null,
      "grid_template_rows": null,
      "height": null,
      "justify_content": null,
      "justify_items": null,
      "left": null,
      "margin": null,
      "max_height": null,
      "max_width": null,
      "min_height": null,
      "min_width": null,
      "object_fit": null,
      "object_position": null,
      "order": null,
      "overflow": null,
      "overflow_x": null,
      "overflow_y": null,
      "padding": null,
      "right": null,
      "top": null,
      "visibility": null,
      "width": null
     }
    }
   }
  }
 },
 "nbformat": 4,
 "nbformat_minor": 4
}
