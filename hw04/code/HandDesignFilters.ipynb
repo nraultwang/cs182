{
 "cells": [
  {
   "cell_type": "markdown",
   "metadata": {},
   "source": [
    "# Hand-Designing Filters\n",
    "\n",
    "Convolutional layer, which is the most important building block of CNN, actively utilizes the concept of filters used in traditional image processing. Therefore, it is quite important to know and understand the types and operation of image filters. In this notebook, we will design convolution filters by hand to understand the operation of convolution."
   ]
  },
  {
   "cell_type": "code",
   "execution_count": null,
   "metadata": {},
   "outputs": [],
   "source": [
    "# As usual, a bit of setup\n",
    "\n",
    "import time\n",
    "import numpy as np\n",
    "import matplotlib.pyplot as plt\n",
    "import requests\n",
    "import random \n",
    "import torch\n",
    "from PIL import Image\n",
    "from scipy import ndimage\n",
    "\n",
    "\n",
    "seed = 7\n",
    "torch.manual_seed(seed)\n",
    "random.seed(seed)\n",
    "np.random.seed(seed)\n",
    "\n",
    "%matplotlib inline\n",
    "plt.rcParams['figure.figsize'] = (10.0, 8.0) # set default size of plots\n",
    "plt.rcParams['image.interpolation'] = 'nearest'\n",
    "plt.rcParams['image.cmap'] = 'gray'\n",
    "\n",
    "# for auto-reloading external modules\n",
    "# see http://stackoverflow.com/questions/1907993/autoreload-of-modules-in-ipython\n",
    "# comment out the lines below if using Python version >= 3.12 (but you will need to manually rerun cells)\n",
    "%load_ext autoreload\n",
    "%autoreload 2\n",
    "\n",
    "imagenet_mean = np.array([0.485, 0.456, 0.406])\n",
    "imagenet_std = np.array([0.229, 0.224, 0.225])\n",
    "\n",
    "def show_image(image, title=''):\n",
    "    # image is [H, W, 3]\n",
    "    # assert image.shape[2] == 3\n",
    "    image = torch.tensor(image)\n",
    "    plt.imshow(torch.clip((image) * 255, 0, 255).int())\n",
    "    plt.title(title, fontsize=16)\n",
    "    plt.axis('off')\n",
    "    return\n",
    "\n",
    "def show_multiple_images(images=[], titles=[]):\n",
    "    assert len(images) == len(titles), \"length of two inputs are not equal\"\n",
    "    N = len(images)\n",
    "    # make the plt figure larger\n",
    "    plt.rcParams['figure.figsize'] = [24, 24]\n",
    "\n",
    "    for i in range(N):\n",
    "        plt.subplot(1, N, i+1)\n",
    "        show_image(images[i], titles[i])\n",
    "\n",
    "    plt.show()\n",
    "\n",
    "def rgb2gray(rgb):\n",
    "    r, g, b = rgb[:,:,0], rgb[:,:,1], rgb[:,:,2]\n",
    "    gray = 0.2989 * r + 0.5870 * g + 0.1140 * b\n",
    "\n",
    "    return gray"
   ]
  },
  {
   "cell_type": "markdown",
   "metadata": {},
   "source": [
    "## Designing Filters\n",
    "\n",
    "In this problem, you will design simple blurring and edge detection filters. "
   ]
  },
  {
   "cell_type": "code",
   "execution_count": null,
   "metadata": {},
   "outputs": [],
   "source": [
    "img_url = 'https://user-images.githubusercontent.com/11435359/147738734-196fd92f-9260-48d5-ba7e-bf103d29364d.jpg' # fox, from ILSVRC2012_val_00046145\n",
    "\n",
    "img = Image.open(requests.get(img_url, stream=True).raw)\n",
    "img = np.array(img) / 255\n",
    "gray_img = rgb2gray(img)\n",
    "\n",
    "\n",
    "show_image(gray_img, 'Original Image')"
   ]
  },
  {
   "cell_type": "markdown",
   "metadata": {},
   "source": [
    "### Image Blurring\n",
    "\n",
    "Image blurring also called image smoothing, usually refers to making an image fuzzy. This filtering is typically used to remove noise in the image. There are various types of image blurring filters, but the three most common are Averaging, Gaussian blurring, and Median filtering.\n",
    "\n",
    "We will implement Averaging filtering in this project. Averaging filtering is also called moving averaging in 1-D. This filter works by placing a mask over an image and then taking the average of all the image pixels covered by the mask and replacing the central pixel with that value.\n",
    "\n",
    "If the kernel size of the image filter is $n \\times n$, then the size of each element in the kernel matrix is $\\frac{1}{n^2}$. Also, the sum of all the elements in the kernel matrix will be 1. So, if the kernel size is $3 \\times 3$, kernel will be as follows.\n",
    "\n",
    "$ \n",
    "    \\frac{1}{9} \\times \\left[\n",
    "    \\begin{array}{ccc}\n",
    "    1 & 1 & 1 \\\\\n",
    "    1 & 1 & 1 \\\\\n",
    "    1 & 1 & 1 \\\\\n",
    "    \\end{array}\n",
    "    \\right]\n",
    "$"
   ]
  },
  {
   "cell_type": "code",
   "execution_count": null,
   "metadata": {},
   "outputs": [],
   "source": [
    "def averaging_filtering(image, filter_size=3):\n",
    "    #############################################################################\n",
    "    # TODO: Implement the averaging filter with the given filter size.          #\n",
    "    # Hint: You can use np.ones                                                 #\n",
    "    #############################################################################\n",
    "    #############################################################################\n",
    "    #                             END OF YOUR CODE                              #\n",
    "    #############################################################################\n",
    "    output = ndimage.convolve(image, kernel)\n",
    "    return output\n",
    "\n",
    "avg_images, avg_titles = [gray_img], ['original']\n",
    "for kernel_size in [3, 6, 9]:\n",
    "    averaging_image = averaging_filtering(gray_img, kernel_size)\n",
    "    avg_images.append(averaging_image)\n",
    "    avg_titles.append(f'{kernel_size}X{kernel_size} Kernel')\n",
    "\n",
    "show_multiple_images(avg_images, avg_titles)"
   ]
  },
  {
   "cell_type": "markdown",
   "metadata": {},
   "source": [
    "### Edge Detection\n",
    "\n",
    "Next, we will implement a simple edge detection filter. Edge detection is an algorithm that detects edges in an image. An edge in an image is a place where the brightness of the image changes abruptly or discontinuously. Several edge detection algorithms exist, such as the Canny edge detector, the Sobel filter and the Laplacian derivatives filter. \n",
    "\n",
    "Here, we will use the $3\\times 3$ Laplacian kernel. This kernel, when convolved with the image, computes the $3\\times 3$ discrete Laplacian of the image:\n",
    "\n",
    "$ \n",
    "    \\left[\n",
    "    \\begin{array}{ccc}\n",
    "    0 & 1 & 0 \\\\\n",
    "    1 & -4 & 1 \\\\\n",
    "    0 & 1 & 0 \\\\\n",
    "    \\end{array}\n",
    "    \\right]\n",
    "$"
   ]
  },
  {
   "cell_type": "code",
   "execution_count": null,
   "metadata": {},
   "outputs": [],
   "source": [
    "def edge_detecting(image):\n",
    "    #############################################################################\n",
    "    # TODO: Implement the Laplacian derivative filter.                          #\n",
    "    #############################################################################\n",
    "    #############################################################################\n",
    "    #                             END OF YOUR CODE                              #\n",
    "    #############################################################################\n",
    "    output = ndimage.convolve(image, kernel)\n",
    "    return output\n",
    "\n",
    "edge_images, edge_titles = [gray_img], ['original']\n",
    "edge_image = edge_detecting(gray_img)\n",
    "edge_images.append(edge_image)\n",
    "edge_titles.append(f'Edge Detection')\n",
    "\n",
    "show_multiple_images(edge_images, edge_titles)"
   ]
  },
  {
   "cell_type": "code",
   "execution_count": null,
   "metadata": {},
   "outputs": [],
   "source": []
  }
 ],
 "metadata": {
  "kernelspec": {
   "display_name": "Python 3 (ipykernel)",
   "language": "python",
   "name": "python3"
  },
  "language_info": {
   "codemirror_mode": {
    "name": "ipython",
    "version": 3
   },
   "file_extension": ".py",
   "mimetype": "text/x-python",
   "name": "python",
   "nbconvert_exporter": "python",
   "pygments_lexer": "ipython3",
   "version": "3.7.4"
  },
  "vscode": {
   "interpreter": {
    "hash": "dad0cb719410d80ddfd601aac97c786f16717fe3c155f75a38a62246744ec8e1"
   }
  }
 },
 "nbformat": 4,
 "nbformat_minor": 2
}
